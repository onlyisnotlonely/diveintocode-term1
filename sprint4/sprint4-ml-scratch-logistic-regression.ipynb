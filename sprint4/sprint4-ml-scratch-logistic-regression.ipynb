{
 "cells": [
  {
   "cell_type": "markdown",
   "metadata": {},
   "source": [
    "# Sprint4課題 機械学習スクラッチ - ロジスティック回帰"
   ]
  },
  {
   "cell_type": "markdown",
   "metadata": {},
   "source": [
    "# 課題の目的\n",
    "\n",
    "- スクラッチを通してロジスティック回帰を理解する\n",
    "- 分類問題についての基礎を学ぶ"
   ]
  },
  {
   "cell_type": "markdown",
   "metadata": {},
   "source": [
    "### 進め方\n",
    "\n",
    "1. 問題を理解（言語化、構造化）して、アウトプット（出力）を明確にする\n",
    "\n",
    "2. 実装する\n",
    "\n",
    "3. 検証する\n",
    "\n",
    "\n",
    "<気をつけること>\n",
    "- 一度に全てを作らない。小さく積み上げる（少し作る → 動作を検証する → エラーを修正 →　少し作る ...を繰り返す）。\n",
    "\n",
    "\n",
    "- 行列演算のエラーを早期発見できるようにshapeをprintする関数を入れておく。\n",
    "\n",
    "\n",
    "- shapeが不定形（n ,）の場合は、reshape(-1, 1)するか、[:, newaxis]で（n, 1）行列にすること。（特に目的変数）\n",
    "\n",
    "\n",
    "- メソッドを定義する際に、Parameters, Returnsの定義を記載する。\n",
    "\n",
    "\n",
    "- 関数名は命名規則にしたがう： [Python命名規則一覧](https://pep8-ja.readthedocs.io/ja/latest/)\n",
    "\n",
    "\n",
    "    - 名前は小文字のみにして、読みやすくするために必要に応じて単語をアンダースコアで区切る。\n",
    "    \n",
    "    - インスタンスメソッドのはじめの引数の名前は常に self を使う。\n",
    "    \n",
    "    - クラスメソッドのはじめの引数の名前は常に cls を使う。\n",
    "    \n",
    "    - 公開されていないメソッドやインスタンス変数にだけ、アンダースコアを先頭に付ける。"
   ]
  },
  {
   "cell_type": "markdown",
   "metadata": {},
   "source": [
    "# 【問題1】ロジスティック回帰のクラスを作成する\n",
    "\n",
    "- ロジスティック回帰のクラスを作成し、Sprint2で作成した分類のパイプラインに組み込んでください。\n",
    "\n",
    "- クラスの基本構造はSprint3の線形回帰を参考にし、名前はScratchLogisticRegressionとしてください。\n",
    "\n",
    "- メソッドやパラメータなどはscikit-learnを参考にしてください。推定関係ではラベルを出力するpredictメソッドと、確率を出力するpredict_probaメソッドの2種類を作成します。\n",
    "\n",
    " [sklearn.linear_model.LinearRegression — scikit-learn 0.20.0 documentation](http://scikit-learn.org/stable/modules/generated/sklearn.linear_model.LinearRegression.html)\n",
    "\n",
    "\n",
    "- 検証段階ではJupyter Notebook上で書いていき、最終的にはpyファイルにモジュールとし\n",
    "てまとめてください。"
   ]
  },
  {
   "cell_type": "markdown",
   "metadata": {},
   "source": [
    "### 必要なメソッド\n",
    "\n",
    "1. 予測（predict） => 出力：予測値\n",
    "\n",
    "\n",
    "2. 学習(fit) => 出力：パラメータ、学習曲線（MSEデータセット）\n",
    "    - 学習とは？ ： 所定のルールに従った（関数を用いて）パラメータの更新を繰り返すこと。（forループ）\n",
    "\n",
    "\n",
    "3. 学習に必要な関数\n",
    "    - 仮定関数\n",
    "    - シグモイド関数\n",
    "    - 目的関数\n",
    "    - 最急降下法（パラメータ更新） => 目的関数の最小化問題の解から導かれる\n",
    "\n",
    "\n",
    "4. 入力値\n",
    "    - X：特徴量（n_samples, n_fetures）\n",
    "    - $θ$：パラメータ（n_fetures）\n",
    "    - y：目的変数（n_samples）"
   ]
  },
  {
   "cell_type": "markdown",
   "metadata": {},
   "source": [
    "- 合計する際は、スカラーを返すnp.sum()を用いること。\n",
    "- 合計する際に、組み込み関数sum()を用いるとarrayが返ってくるため使わない。"
   ]
  },
  {
   "cell_type": "code",
   "execution_count": 1,
   "metadata": {},
   "outputs": [],
   "source": [
    "import sys\n",
    "\n",
    "sys.path.append('/Users/makintosh/diveintocode-term1/ml-scratch')\n",
    "\n",
    "from utils.ScratchLogisticRegression import ScratchLogisticRegression"
   ]
  },
  {
   "cell_type": "markdown",
   "metadata": {},
   "source": [
    "### データセットの準備\n",
    "\n",
    "- irisデータを用いる。 "
   ]
  },
  {
   "cell_type": "code",
   "execution_count": 2,
   "metadata": {},
   "outputs": [],
   "source": [
    "import numpy as np\n",
    "import pandas as pd\n",
    "\n",
    "import matplotlib.pyplot as plt\n",
    "\n",
    "from sklearn.datasets import load_iris\n",
    "from sklearn.preprocessing import StandardScaler\n",
    "from sklearn.model_selection import train_test_split"
   ]
  },
  {
   "cell_type": "code",
   "execution_count": 3,
   "metadata": {
    "scrolled": false
   },
   "outputs": [
    {
     "name": "stdout",
     "output_type": "stream",
     "text": [
      "['sepal length (cm)' 'sepal width (cm)' 'petal length (cm)'\n",
      " 'petal width (cm)' 'target']\n",
      "<class 'pandas.core.frame.DataFrame'>\n",
      "RangeIndex: 150 entries, 0 to 149\n",
      "Data columns (total 5 columns):\n",
      "sepal length (cm)    150 non-null float64\n",
      "sepal width (cm)     150 non-null float64\n",
      "petal length (cm)    150 non-null float64\n",
      "petal width (cm)     150 non-null float64\n",
      "target               150 non-null int64\n",
      "dtypes: float64(4), int64(1)\n",
      "memory usage: 5.9 KB\n",
      "None\n"
     ]
    }
   ],
   "source": [
    "# データセット\n",
    "iris = load_iris()\n",
    "\n",
    "# データフレームに格納\n",
    "df_iris = pd.DataFrame(load_iris().data, columns = load_iris().feature_names)\n",
    "df_iris[\"target\"] = load_iris().target\n",
    "#df_iris[\"target_names\"] = load_iris().target_names\n",
    "\n",
    "# 出力\n",
    "print(df_iris.columns.values)\n",
    "print(df_iris.info())"
   ]
  },
  {
   "cell_type": "code",
   "execution_count": 4,
   "metadata": {
    "scrolled": false
   },
   "outputs": [],
   "source": [
    "# targetから1(\"versicolor\")、2(\"virsinica\")を抽出し、2値分類に用いる\n",
    "\n",
    "df = df_iris[df_iris[\"target\"] != 0]"
   ]
  },
  {
   "cell_type": "code",
   "execution_count": 5,
   "metadata": {},
   "outputs": [],
   "source": [
    "# 説明変数、目的変数に分解\n",
    "# 説明変数はpetal length, petal widthを用いる\n",
    "\n",
    "X_df = df.drop(['sepal length (cm)', 'sepal width (cm)', \"target\"], axis = 1)\n",
    "y_df = df[\"target\"]"
   ]
  },
  {
   "cell_type": "code",
   "execution_count": 6,
   "metadata": {},
   "outputs": [
    {
     "name": "stdout",
     "output_type": "stream",
     "text": [
      "X_train.shape : (75, 2)\n",
      "X_test.shape : (25, 2)\n",
      "y_train.shape : (75,)\n",
      "y_test.shape  : (25,)\n"
     ]
    }
   ],
   "source": [
    "# 学習用データ、検証用データを作成する\n",
    "X_train, X_test, y_train, y_test = train_test_split(X_df.values, y_df.values, random_state = 2)\n",
    "\n",
    "# shapeの確認\n",
    "print(\"X_train.shape : {}\".format(X_train.shape))\n",
    "print(\"X_test.shape : {}\".format(X_test.shape))\n",
    "print(\"y_train.shape : {}\".format(y_train.shape)) \n",
    "print(\"y_test.shape  : {}\".format(y_test.shape)) "
   ]
  },
  {
   "cell_type": "code",
   "execution_count": 7,
   "metadata": {},
   "outputs": [
    {
     "data": {
      "text/plain": [
       "array([2, 1, 2, 1, 1, 1, 1, 1, 1, 1, 2, 2, 2, 1, 1, 1, 1, 1, 2, 2, 1, 1,\n",
       "       2, 1, 2])"
      ]
     },
     "execution_count": 7,
     "metadata": {},
     "output_type": "execute_result"
    }
   ],
   "source": [
    "y_test"
   ]
  },
  {
   "cell_type": "code",
   "execution_count": 8,
   "metadata": {},
   "outputs": [],
   "source": [
    "# 説明変数を標準化する\n",
    "scaler = StandardScaler() # インスタンス生成\n",
    "\n",
    "# フィッティング\n",
    "scaler.fit(X_train)\n",
    "\n",
    "# 標準化\n",
    "X_train_std = scaler.transform(X_train)\n",
    "X_test_std = scaler.transform(X_test)"
   ]
  },
  {
   "cell_type": "markdown",
   "metadata": {},
   "source": [
    "## 検証：バイアスなし\n",
    "\n",
    "- 問題３以降ではバイアス無しのモデル、予測結果を用いる。"
   ]
  },
  {
   "cell_type": "code",
   "execution_count": 9,
   "metadata": {
    "scrolled": true
   },
   "outputs": [],
   "source": [
    "# バイアス無し\n",
    "LR_no_bias_true = ScratchLogisticRegression(no_bias = True)\n",
    "\n",
    "# フィッティング\n",
    "LR_no_bias_true.fit(X_train_std, y_train, X_test_std, y_test)"
   ]
  },
  {
   "cell_type": "code",
   "execution_count": 10,
   "metadata": {
    "scrolled": true
   },
   "outputs": [
    {
     "data": {
      "image/png": "[encoded data removed]",
      "text/plain": [
       "<Figure size 432x288 with 1 Axes>"
      ]
     },
     "metadata": {
      "needs_background": "light"
     },
     "output_type": "display_data"
    }
   ],
   "source": [
    "# 学習曲線を表示\n",
    "#print(LR_no_bias_true.val_loss)\n",
    "LR_no_bias_true.show_learning_curve()"
   ]
  },
  {
   "cell_type": "markdown",
   "metadata": {},
   "source": [
    "検証データに基づき算出した損失も学習の経過と共に減少しており、学習が適切に行われていることを確認した。"
   ]
  },
  {
   "cell_type": "code",
   "execution_count": 11,
   "metadata": {
    "scrolled": true
   },
   "outputs": [
    {
     "data": {
      "text/html": [
       "<div>\n",
       "<style scoped>\n",
       "    .dataframe tbody tr th:only-of-type {\n",
       "        vertical-align: middle;\n",
       "    }\n",
       "\n",
       "    .dataframe tbody tr th {\n",
       "        vertical-align: top;\n",
       "    }\n",
       "\n",
       "    .dataframe thead th {\n",
       "        text-align: right;\n",
       "    }\n",
       "</style>\n",
       "<table border=\"1\" class=\"dataframe\">\n",
       "  <thead>\n",
       "    <tr style=\"text-align: right;\">\n",
       "      <th></th>\n",
       "      <th>y_pred_no_bias</th>\n",
       "      <th>y_test</th>\n",
       "    </tr>\n",
       "  </thead>\n",
       "  <tbody>\n",
       "    <tr>\n",
       "      <th>0</th>\n",
       "      <td>1</td>\n",
       "      <td>2</td>\n",
       "    </tr>\n",
       "    <tr>\n",
       "      <th>1</th>\n",
       "      <td>1</td>\n",
       "      <td>1</td>\n",
       "    </tr>\n",
       "    <tr>\n",
       "      <th>2</th>\n",
       "      <td>1</td>\n",
       "      <td>2</td>\n",
       "    </tr>\n",
       "    <tr>\n",
       "      <th>3</th>\n",
       "      <td>1</td>\n",
       "      <td>1</td>\n",
       "    </tr>\n",
       "    <tr>\n",
       "      <th>4</th>\n",
       "      <td>1</td>\n",
       "      <td>1</td>\n",
       "    </tr>\n",
       "    <tr>\n",
       "      <th>5</th>\n",
       "      <td>1</td>\n",
       "      <td>1</td>\n",
       "    </tr>\n",
       "    <tr>\n",
       "      <th>6</th>\n",
       "      <td>1</td>\n",
       "      <td>1</td>\n",
       "    </tr>\n",
       "    <tr>\n",
       "      <th>7</th>\n",
       "      <td>1</td>\n",
       "      <td>1</td>\n",
       "    </tr>\n",
       "    <tr>\n",
       "      <th>8</th>\n",
       "      <td>1</td>\n",
       "      <td>1</td>\n",
       "    </tr>\n",
       "    <tr>\n",
       "      <th>9</th>\n",
       "      <td>1</td>\n",
       "      <td>1</td>\n",
       "    </tr>\n",
       "    <tr>\n",
       "      <th>10</th>\n",
       "      <td>2</td>\n",
       "      <td>2</td>\n",
       "    </tr>\n",
       "    <tr>\n",
       "      <th>11</th>\n",
       "      <td>2</td>\n",
       "      <td>2</td>\n",
       "    </tr>\n",
       "    <tr>\n",
       "      <th>12</th>\n",
       "      <td>2</td>\n",
       "      <td>2</td>\n",
       "    </tr>\n",
       "    <tr>\n",
       "      <th>13</th>\n",
       "      <td>1</td>\n",
       "      <td>1</td>\n",
       "    </tr>\n",
       "    <tr>\n",
       "      <th>14</th>\n",
       "      <td>1</td>\n",
       "      <td>1</td>\n",
       "    </tr>\n",
       "    <tr>\n",
       "      <th>15</th>\n",
       "      <td>1</td>\n",
       "      <td>1</td>\n",
       "    </tr>\n",
       "    <tr>\n",
       "      <th>16</th>\n",
       "      <td>1</td>\n",
       "      <td>1</td>\n",
       "    </tr>\n",
       "    <tr>\n",
       "      <th>17</th>\n",
       "      <td>1</td>\n",
       "      <td>1</td>\n",
       "    </tr>\n",
       "    <tr>\n",
       "      <th>18</th>\n",
       "      <td>2</td>\n",
       "      <td>2</td>\n",
       "    </tr>\n",
       "    <tr>\n",
       "      <th>19</th>\n",
       "      <td>1</td>\n",
       "      <td>2</td>\n",
       "    </tr>\n",
       "    <tr>\n",
       "      <th>20</th>\n",
       "      <td>1</td>\n",
       "      <td>1</td>\n",
       "    </tr>\n",
       "    <tr>\n",
       "      <th>21</th>\n",
       "      <td>1</td>\n",
       "      <td>1</td>\n",
       "    </tr>\n",
       "    <tr>\n",
       "      <th>22</th>\n",
       "      <td>1</td>\n",
       "      <td>2</td>\n",
       "    </tr>\n",
       "    <tr>\n",
       "      <th>23</th>\n",
       "      <td>1</td>\n",
       "      <td>1</td>\n",
       "    </tr>\n",
       "    <tr>\n",
       "      <th>24</th>\n",
       "      <td>2</td>\n",
       "      <td>2</td>\n",
       "    </tr>\n",
       "  </tbody>\n",
       "</table>\n",
       "</div>"
      ],
      "text/plain": [
       "    y_pred_no_bias  y_test\n",
       "0                1       2\n",
       "1                1       1\n",
       "2                1       2\n",
       "3                1       1\n",
       "4                1       1\n",
       "5                1       1\n",
       "6                1       1\n",
       "7                1       1\n",
       "8                1       1\n",
       "9                1       1\n",
       "10               2       2\n",
       "11               2       2\n",
       "12               2       2\n",
       "13               1       1\n",
       "14               1       1\n",
       "15               1       1\n",
       "16               1       1\n",
       "17               1       1\n",
       "18               2       2\n",
       "19               1       2\n",
       "20               1       1\n",
       "21               1       1\n",
       "22               1       2\n",
       "23               1       1\n",
       "24               2       2"
      ]
     },
     "execution_count": 11,
     "metadata": {},
     "output_type": "execute_result"
    }
   ],
   "source": [
    "# 検証データの正解値に対する予測確率\n",
    "y_pred_prob_no_bias = LR_no_bias_true.predict_prob(X_test_std)\n",
    "\n",
    "# 検証データの予測値を出力\n",
    "y_pred_no_bias = LR_no_bias_true.predict(X_test_std)\n",
    "\n",
    "# データフレームを作成\n",
    "df_y_pred = pd.DataFrame(y_pred_no_bias, columns=[\"y_pred_no_bias\"])\n",
    "df_y_pred[\"y_test\"] = y_test\n",
    "\n",
    "# 出力\n",
    "df_y_pred"
   ]
  },
  {
   "cell_type": "markdown",
   "metadata": {},
   "source": [
    "## 検証：バイアスあり"
   ]
  },
  {
   "cell_type": "code",
   "execution_count": 12,
   "metadata": {},
   "outputs": [
    {
     "data": {
      "text/html": [
       "<div>\n",
       "<style scoped>\n",
       "    .dataframe tbody tr th:only-of-type {\n",
       "        vertical-align: middle;\n",
       "    }\n",
       "\n",
       "    .dataframe tbody tr th {\n",
       "        vertical-align: top;\n",
       "    }\n",
       "\n",
       "    .dataframe thead th {\n",
       "        text-align: right;\n",
       "    }\n",
       "</style>\n",
       "<table border=\"1\" class=\"dataframe\">\n",
       "  <thead>\n",
       "    <tr style=\"text-align: right;\">\n",
       "      <th></th>\n",
       "      <th>y_pred_with_bias</th>\n",
       "      <th>y_test</th>\n",
       "    </tr>\n",
       "  </thead>\n",
       "  <tbody>\n",
       "    <tr>\n",
       "      <th>0</th>\n",
       "      <td>1</td>\n",
       "      <td>2</td>\n",
       "    </tr>\n",
       "    <tr>\n",
       "      <th>1</th>\n",
       "      <td>1</td>\n",
       "      <td>1</td>\n",
       "    </tr>\n",
       "    <tr>\n",
       "      <th>2</th>\n",
       "      <td>1</td>\n",
       "      <td>2</td>\n",
       "    </tr>\n",
       "    <tr>\n",
       "      <th>3</th>\n",
       "      <td>1</td>\n",
       "      <td>1</td>\n",
       "    </tr>\n",
       "    <tr>\n",
       "      <th>4</th>\n",
       "      <td>1</td>\n",
       "      <td>1</td>\n",
       "    </tr>\n",
       "    <tr>\n",
       "      <th>5</th>\n",
       "      <td>1</td>\n",
       "      <td>1</td>\n",
       "    </tr>\n",
       "    <tr>\n",
       "      <th>6</th>\n",
       "      <td>1</td>\n",
       "      <td>1</td>\n",
       "    </tr>\n",
       "    <tr>\n",
       "      <th>7</th>\n",
       "      <td>1</td>\n",
       "      <td>1</td>\n",
       "    </tr>\n",
       "    <tr>\n",
       "      <th>8</th>\n",
       "      <td>1</td>\n",
       "      <td>1</td>\n",
       "    </tr>\n",
       "    <tr>\n",
       "      <th>9</th>\n",
       "      <td>1</td>\n",
       "      <td>1</td>\n",
       "    </tr>\n",
       "    <tr>\n",
       "      <th>10</th>\n",
       "      <td>2</td>\n",
       "      <td>2</td>\n",
       "    </tr>\n",
       "    <tr>\n",
       "      <th>11</th>\n",
       "      <td>2</td>\n",
       "      <td>2</td>\n",
       "    </tr>\n",
       "    <tr>\n",
       "      <th>12</th>\n",
       "      <td>1</td>\n",
       "      <td>2</td>\n",
       "    </tr>\n",
       "    <tr>\n",
       "      <th>13</th>\n",
       "      <td>1</td>\n",
       "      <td>1</td>\n",
       "    </tr>\n",
       "    <tr>\n",
       "      <th>14</th>\n",
       "      <td>1</td>\n",
       "      <td>1</td>\n",
       "    </tr>\n",
       "    <tr>\n",
       "      <th>15</th>\n",
       "      <td>1</td>\n",
       "      <td>1</td>\n",
       "    </tr>\n",
       "    <tr>\n",
       "      <th>16</th>\n",
       "      <td>1</td>\n",
       "      <td>1</td>\n",
       "    </tr>\n",
       "    <tr>\n",
       "      <th>17</th>\n",
       "      <td>1</td>\n",
       "      <td>1</td>\n",
       "    </tr>\n",
       "    <tr>\n",
       "      <th>18</th>\n",
       "      <td>2</td>\n",
       "      <td>2</td>\n",
       "    </tr>\n",
       "    <tr>\n",
       "      <th>19</th>\n",
       "      <td>2</td>\n",
       "      <td>2</td>\n",
       "    </tr>\n",
       "    <tr>\n",
       "      <th>20</th>\n",
       "      <td>1</td>\n",
       "      <td>1</td>\n",
       "    </tr>\n",
       "    <tr>\n",
       "      <th>21</th>\n",
       "      <td>1</td>\n",
       "      <td>1</td>\n",
       "    </tr>\n",
       "    <tr>\n",
       "      <th>22</th>\n",
       "      <td>2</td>\n",
       "      <td>2</td>\n",
       "    </tr>\n",
       "    <tr>\n",
       "      <th>23</th>\n",
       "      <td>1</td>\n",
       "      <td>1</td>\n",
       "    </tr>\n",
       "    <tr>\n",
       "      <th>24</th>\n",
       "      <td>1</td>\n",
       "      <td>2</td>\n",
       "    </tr>\n",
       "  </tbody>\n",
       "</table>\n",
       "</div>"
      ],
      "text/plain": [
       "    y_pred_with_bias  y_test\n",
       "0                  1       2\n",
       "1                  1       1\n",
       "2                  1       2\n",
       "3                  1       1\n",
       "4                  1       1\n",
       "5                  1       1\n",
       "6                  1       1\n",
       "7                  1       1\n",
       "8                  1       1\n",
       "9                  1       1\n",
       "10                 2       2\n",
       "11                 2       2\n",
       "12                 1       2\n",
       "13                 1       1\n",
       "14                 1       1\n",
       "15                 1       1\n",
       "16                 1       1\n",
       "17                 1       1\n",
       "18                 2       2\n",
       "19                 2       2\n",
       "20                 1       1\n",
       "21                 1       1\n",
       "22                 2       2\n",
       "23                 1       1\n",
       "24                 1       2"
      ]
     },
     "execution_count": 12,
     "metadata": {},
     "output_type": "execute_result"
    }
   ],
   "source": [
    "# インスタンスオブジェクト生成\n",
    "LR_no_bias_false = ScratchLogisticRegression(no_bias = False)\n",
    "\n",
    "# 学習\n",
    "LR_no_bias_false.fit(X_train_std, y_train, X_test_std, y_test)\n",
    "\n",
    "# 予測\n",
    "y_pred_with_bias = LR_no_bias_false.predict(X_test_std)\n",
    "\n",
    "# データフレームを作成\n",
    "df_y_pred = pd.DataFrame(y_pred_with_bias, columns=[\"y_pred_with_bias\"])\n",
    "df_y_pred[\"y_test\"] = y_test\n",
    "\n",
    "# 出力\n",
    "df_y_pred"
   ]
  },
  {
   "cell_type": "code",
   "execution_count": 13,
   "metadata": {
    "scrolled": true
   },
   "outputs": [
    {
     "data": {
      "image/png": "[encoded data removed]",
      "text/plain": [
       "<Figure size 432x288 with 1 Axes>"
      ]
     },
     "metadata": {
      "needs_background": "light"
     },
     "output_type": "display_data"
    }
   ],
   "source": [
    "# 学習曲線\n",
    "LR_no_bias_false.show_learning_curve()"
   ]
  },
  {
   "cell_type": "markdown",
   "metadata": {},
   "source": [
    "検証データに基づき算出した損失も学習の経過と共に減少しており、学習が適切に行われていることを確認した。"
   ]
  },
  {
   "cell_type": "markdown",
   "metadata": {},
   "source": [
    "# 【問題2】学習曲線のプロット\n",
    "\n",
    "学習曲線をプロットしてください。"
   ]
  },
  {
   "cell_type": "code",
   "execution_count": 14,
   "metadata": {
    "scrolled": true
   },
   "outputs": [
    {
     "data": {
      "image/png": "[encoded data removed]",
      "text/plain": [
       "<Figure size 432x288 with 1 Axes>"
      ]
     },
     "metadata": {
      "needs_background": "light"
     },
     "output_type": "display_data"
    }
   ],
   "source": [
    "import matplotlib.pyplot as plt\n",
    "\n",
    "# クロスエントロピー損失\n",
    "train_loss_with_bias = LR_no_bias_false.train_loss # 学習用データ、バイアスあり\n",
    "train_loss_no_bias = LR_no_bias_true.train_loss     # 学習用データ、バイアス無し\n",
    "val_loss_with_bias = LR_no_bias_false.val_loss       # 検証用データ、バイアスあり\n",
    "val_loss_no_bias = LR_no_bias_true.val_loss           # 検証用データ、バイアス無し\n",
    "\n",
    "# グラフに描画\n",
    "if val_loss_with_bias.all() != 0:\n",
    "    plt.plot(val_loss_with_bias, label=\"val_loss_with_bias\")\n",
    "\n",
    "if val_loss_no_bias.all() != 0:\n",
    "    plt.plot(val_loss_no_bias, label=\"val_loss_no_bias\")\n",
    "\n",
    "plt.plot(train_loss_with_bias, label=\"train_loss_with_bias\")\n",
    "plt.plot(train_loss_no_bias, label=\"train_loss_no_bias \")\n",
    "\n",
    "plt.xlabel(\"iteration\")\n",
    "plt.ylabel(\"cross_entropy_loss\")\n",
    "plt.title(\"Learning_Curve\")\n",
    "plt.legend()\n",
    "plt.show()"
   ]
  },
  {
   "cell_type": "markdown",
   "metadata": {},
   "source": [
    "# 【問題3】指標値の算出\n",
    "\n",
    "分類に関する指標値で精度を確認してください。"
   ]
  },
  {
   "cell_type": "markdown",
   "metadata": {},
   "source": [
    "### 分類に関する指標値\n",
    "\n",
    "- 正解率（accuracy）\n",
    "- 適合率（precision_xcore）\n",
    "- 検出率（recall_score）\n",
    "- F値（f-score）\n",
    "- auc"
   ]
  },
  {
   "cell_type": "code",
   "execution_count": 15,
   "metadata": {},
   "outputs": [],
   "source": [
    "from sklearn import metrics\n",
    "from sklearn.metrics import accuracy_score, precision_score, recall_score, f1_score, roc_curve"
   ]
  },
  {
   "cell_type": "code",
   "execution_count": 16,
   "metadata": {
    "scrolled": true
   },
   "outputs": [
    {
     "name": "stdout",
     "output_type": "stream",
     "text": [
      "accuracy : 0.84\n",
      "precision : 0.8\n",
      "recall : 1.0\n",
      "f1_score : 0.89\n"
     ]
    }
   ],
   "source": [
    "# 評価\n",
    "print(\"accuracy : {}\".format(round(accuracy_score(y_test, y_pred_no_bias),2))) # 正解率\n",
    "print(\"precision : {}\".format(round(precision_score(y_test, y_pred_no_bias),2))) # 適合率\n",
    "print(\"recall : {}\".format(round(recall_score(y_test, y_pred_no_bias),2)))      # 検出率\n",
    "print(\"f1_score : {}\".format(round(f1_score(y_test, y_pred_no_bias),2)))   #  f1-score"
   ]
  },
  {
   "cell_type": "code",
   "execution_count": 17,
   "metadata": {},
   "outputs": [
    {
     "name": "stdout",
     "output_type": "stream",
     "text": [
      "auc : 0.78\n"
     ]
    },
    {
     "data": {
      "image/png": "[encoded data removed]",
      "text/plain": [
       "<Figure size 432x288 with 1 Axes>"
      ]
     },
     "metadata": {
      "needs_background": "light"
     },
     "output_type": "display_data"
    }
   ],
   "source": [
    "\"\"\"\n",
    "予測値に基づくROC curve\n",
    "\"\"\"\n",
    "\n",
    "# AUC(Compute Area Under the Curve)\n",
    "fpr, tpr, thresholds = roc_curve(y_test, y_pred_no_bias, pos_label = 2)\n",
    "auc = metrics.auc(fpr, tpr)\n",
    "print(\"auc : {}\".format(round(auc,2)))\n",
    "\n",
    "# 可視化\n",
    "import matplotlib.pyplot as plt\n",
    "\n",
    "plt.plot(fpr, tpr, label='ROC curve (area = %.2f)'%auc)\n",
    "plt.legend()\n",
    "plt.title(\"ROC curve\")\n",
    "plt.xlabel(\"False Positive Rate\")\n",
    "plt.ylabel(\"True Positive Rate\")\n",
    "plt.grid(True)"
   ]
  },
  {
   "cell_type": "code",
   "execution_count": 18,
   "metadata": {
    "scrolled": true
   },
   "outputs": [
    {
     "name": "stdout",
     "output_type": "stream",
     "text": [
      "auc : 0.9305555555555556\n"
     ]
    },
    {
     "data": {
      "image/png": "[encoded data removed]",
      "text/plain": [
       "<Figure size 432x288 with 1 Axes>"
      ]
     },
     "metadata": {
      "needs_background": "light"
     },
     "output_type": "display_data"
    }
   ],
   "source": [
    "\"\"\"\n",
    "予測確率に基づくROC curve\n",
    "\"\"\"\n",
    "import matplotlib.pyplot as plt\n",
    "\n",
    "fpr, tpr, thresholds = roc_curve(y_test, y_pred_prob_no_bias, pos_label = 2)\n",
    "auc = metrics.auc(fpr, tpr)\n",
    "\n",
    "# aucを出力\n",
    "print(\"auc : {}\".format(auc))\n",
    "\n",
    "\n",
    "# ROC Curveを出力\n",
    "plt.plot(fpr, tpr, label='ROC curve (area = %.2f)'%auc)\n",
    "plt.legend()\n",
    "plt.title(\"ROC curve\")\n",
    "plt.xlabel(\"False Positive Rate\")\n",
    "plt.ylabel(\"True Positive Rate\")\n",
    "plt.grid(True)"
   ]
  },
  {
   "cell_type": "markdown",
   "metadata": {},
   "source": [
    "# 【問題4】決定領域の可視化\n",
    "\n",
    "2値分類のデータセットに対して決定領域を可視化してください。"
   ]
  },
  {
   "cell_type": "code",
   "execution_count": 19,
   "metadata": {},
   "outputs": [],
   "source": [
    "import matplotlib.pyplot as plt\n",
    "from matplotlib.colors import ListedColormap\n",
    "import matplotlib.patches as mpatches\n",
    "\n",
    "def decision_region(X_train, y_train, model, step=0.01, title='decision region', xlabel='xlabel', ylabel='ylabel', target_names=['setosa', 'versicolor']):\n",
    "    \"\"\"\n",
    "    2値分類を2次元の特徴量で学習したモデルの決定領域を描く。\n",
    "    背景の色が学習したモデルによる推定値から描画される。\n",
    "    散布図の点は学習用データである。\n",
    "\n",
    "    Parameters\n",
    "    ----------------\n",
    "    X_train : ndarray, shape(n_samples, 2)\n",
    "        学習用データの特徴量\n",
    "    y_train : ndarray, shape(n_samples,)\n",
    "        学習用データの正解値\n",
    "    model : object\n",
    "        学習したモデルのインスンタスを入れる\n",
    "    step : float, (default : 0.1)\n",
    "        推定値を計算する間隔を設定する\n",
    "    title : str\n",
    "        グラフのタイトルの文章を与える\n",
    "    xlabel, ylabel : str\n",
    "        軸ラベルの文章を与える\n",
    "    target_names= : list of str\n",
    "        凡例の一覧を与える\n",
    "    \"\"\"\n",
    "    # setting\n",
    "    scatter_color = ['red', 'blue']\n",
    "    contourf_color = ['pink', 'skyblue']\n",
    "    n_class = 2\n",
    "\n",
    "    # pred\n",
    "    mesh_f0, mesh_f1  = np.meshgrid(np.arange(np.min(X_train[:,0])-0.5, np.max(X_train[:,0])+0.5, step), np.arange(np.min(X_train[:,1])-0.5, np.max(X_train[:,1])+0.5, step))\n",
    "    mesh = np.c_[np.ravel(mesh_f0),np.ravel(mesh_f1)]\n",
    "    pred = model.predict(mesh).reshape(mesh_f0.shape)\n",
    "\n",
    "    # plot\n",
    "    plt.title(title)\n",
    "    plt.xlabel(xlabel)\n",
    "    plt.ylabel(ylabel)\n",
    "    plt.contourf(mesh_f0, mesh_f1, pred, n_class-1, cmap=ListedColormap(contourf_color))\n",
    "    plt.contour(mesh_f0, mesh_f1, pred, n_class-1, colors='y', linewidths=3, alpha=0.5)\n",
    "    for i, target in enumerate(set(y_train)):\n",
    "        plt.scatter(X_train[y_train==target][:, 0], X_train[y_train==target][:, 1], s=80, color=scatter_color[i], label=target_names[i], marker='o')\n",
    "    patches = [mpatches.Patch(color=scatter_color[i], label=target_names[i]) for i in range(n_class)]\n",
    "    plt.legend(handles=patches)\n",
    "    plt.legend()\n",
    "    plt.show()"
   ]
  },
  {
   "cell_type": "code",
   "execution_count": 20,
   "metadata": {},
   "outputs": [
    {
     "data": {
      "image/png": "[encoded data removed]",
      "text/plain": [
       "<Figure size 432x288 with 1 Axes>"
      ]
     },
     "metadata": {
      "needs_background": "light"
     },
     "output_type": "display_data"
    }
   ],
   "source": [
    "decision_region(X_train_std, y_train, LR_no_bias_true, xlabel = \"petal length(cm)\", ylabel = \"petal width(cm)\")"
   ]
  },
  {
   "cell_type": "markdown",
   "metadata": {},
   "source": [
    "# 【問題5】（アドバンス課題）重みの保存\n",
    "\n",
    "検証が容易になるように、学習した重みを保存および読み込みができるようにしましょう。pickleモジュールやnumpy.savezを利用します。\n",
    "\n",
    "[pickle — Python オブジェクトの直列化 — Python 3.7.1 ドキュメント](https://docs.python.org/ja/3/library/pickle.html)\n",
    "\n",
    "[numpy.savez — NumPy v1.15 Manual](https://docs.scipy.org/doc/numpy-1.15.0/reference/generated/numpy.savez.html#numpy.savez)"
   ]
  },
  {
   "cell_type": "markdown",
   "metadata": {},
   "source": [
    "### numpy.savezについて\n",
    "\n",
    "- １つのファイルに.npzフォーマットで配列を格納する(Save several arrays into a single file in uncompressed .npz format.)"
   ]
  },
  {
   "cell_type": "code",
   "execution_count": 21,
   "metadata": {},
   "outputs": [
    {
     "name": "stdout",
     "output_type": "stream",
     "text": [
      "['arr_0', 'arr_1']\n",
      "[0 1 2 3 4 5 6 7 8 9]\n",
      "[ 0.          0.84147098  0.90929743  0.14112001 -0.7568025  -0.95892427\n",
      " -0.2794155   0.6569866   0.98935825  0.41211849]\n"
     ]
    }
   ],
   "source": [
    "# 公式ドキュメントに記載のサンプルを実行してみる\n",
    "from tempfile import TemporaryFile\n",
    "\n",
    "# インスタンス生成\n",
    "outfile = TemporaryFile()\n",
    "\n",
    "# 変数\n",
    "x = np.arange(10)\n",
    "y = np.sin(x)\n",
    "\n",
    "# savez()メソッドでoutfileオブジェクトにx, yを保存\n",
    "np.savez(outfile, x, y)\n",
    "\n",
    "# simulate closing & reopening file\n",
    "outfile.seek(0)\n",
    "\n",
    "npzfile = np.load(outfile)\n",
    "\n",
    "print(npzfile.files)\n",
    "\n",
    "print(npzfile[\"arr_0\"])\n",
    "print(npzfile[\"arr_1\"])"
   ]
  },
  {
   "cell_type": "markdown",
   "metadata": {},
   "source": [
    "- 学習用データ => 学習 => 重み（パラメータ） => 格納"
   ]
  },
  {
   "cell_type": "code",
   "execution_count": 22,
   "metadata": {
    "scrolled": true
   },
   "outputs": [
    {
     "name": "stdout",
     "output_type": "stream",
     "text": [
      "['no_bias_true']\n"
     ]
    },
    {
     "data": {
      "text/plain": [
       "array([[0.00302764, 0.12843728]])"
      ]
     },
     "execution_count": 22,
     "metadata": {},
     "output_type": "execute_result"
    }
   ],
   "source": [
    "# 一時ファイルのインスタンス生成\n",
    "outfile = TemporaryFile()\n",
    "\n",
    "# 学習により算出された重み\n",
    "coef = LR_no_bias_true.coef\n",
    "\n",
    "# outfileオブジェクトに重みを保存 (一時ファイル, 配列名 = 値)\n",
    "np.savez(outfile, no_bias_true = coef)\n",
    "\n",
    "# seek()メソッドで先頭行に戻る\n",
    "outfile.seek(0)\n",
    "\n",
    "# outfileオブジェクトを読み込み\n",
    "coefficients = np.load(outfile)\n",
    "\n",
    "# 一時ファイルに格納された配列を表示\n",
    "print(coefficients.files)\n",
    "\n",
    "# 配列名を指定し、重みを取得\n",
    "coefficients[\"no_bias_true\"]"
   ]
  },
  {
   "cell_type": "markdown",
   "metadata": {},
   "source": [
    "学習によって算出した重み（モデルのパラメーター）を一時ファイルに保存し、読み込むことが出来た。"
   ]
  },
  {
   "cell_type": "markdown",
   "metadata": {},
   "source": [
    "# 【問題6】分類と回帰\n",
    "\n",
    "最終発表時に以下の内容についてディスカッションを行います。自分なりの意見を用意しておいてください。\n",
    "\n",
    "- 分類問題と回帰問題は本質的に何が異なっているか?"
   ]
  },
  {
   "cell_type": "markdown",
   "metadata": {},
   "source": [
    "# 本課題からの学び\n",
    "\n",
    "- スクラッチで線形回帰クラスを実装したことで、分類問題（問題定義、学習・予測のロジック）に対する理解が深まった。\n",
    "\n",
    "\n",
    "- 今回のスクラッチではsprint3の学びを生かし、行列のshapeを都度出力、エラーが発生しないことを確認しながら進めたため、前回に比べて実装がスムーズだった。\n",
    "\n",
    "\n",
    "- デバッグによる作業の非効率性は突き詰めれば、プログラムが巨大になるに連れてエラー発生箇所の検索時間が非線形的に増加することに起因する。\n",
    "\n",
    "\n",
    "- その意味で「いかに多くのテストシナリオ（データ型・形状（shape）、引数、条件分岐など）を事前に想定できるか」が実装の効率性を左右すると思う。\n",
    "\n",
    "\n",
    "- 他、インスタンス変数を書き換える際に、大元の引数の値は変わらない（インスタンス変数は元の引数のコピーであり、インスタンス変数を書き換えても元の引数は上書きされない）と思い込んで進めてしまい、エラーの原因となった。基本的事項に関する思い込みは気付くのに時間がかかるので、知っているつもりでも念を入れて、具体例に基づく検証を進めながら実装したい。\n",
    "\n",
    "\n",
    "- サンプルを作る際に、リターンと関数名を揃えてしまい、エラー（object is not callable.）が多発した。作業効率が著しく低下するので気をつけたい。"
   ]
  },
  {
   "cell_type": "markdown",
   "metadata": {},
   "source": [
    "### 補足１：scikit-learnのLogisticRegressionを使うとどうなる？"
   ]
  },
  {
   "cell_type": "code",
   "execution_count": 29,
   "metadata": {},
   "outputs": [
    {
     "name": "stdout",
     "output_type": "stream",
     "text": [
      "auc : 0.802\n"
     ]
    },
    {
     "name": "stderr",
     "output_type": "stream",
     "text": [
      "/anaconda3/lib/python3.7/site-packages/sklearn/linear_model/logistic.py:433: FutureWarning: Default solver will be changed to 'lbfgs' in 0.22. Specify a solver to silence this warning.\n",
      "  FutureWarning)\n"
     ]
    }
   ],
   "source": [
    "from sklearn.linear_model import LogisticRegression\n",
    "\n",
    "LR_origin = LogisticRegression()\n",
    "\n",
    "LR_origin.fit(X_train_std, y_train)\n",
    "\n",
    "y_pred_origin = LR_origin.predict(X_test_std)\n",
    "\n",
    "# AUC(Compute Area Under the Curve)\n",
    "fpr, tpr, thresholds = roc_curve(y_test, y_pred_origin, pos_label = 2)\n",
    "auc = metrics.auc(fpr, tpr)\n",
    "print(\"auc : {}\".format(round(auc,3)))"
   ]
  },
  {
   "cell_type": "markdown",
   "metadata": {},
   "source": [
    "### 補足２：正解ラベルを（0, 1）に変換せずに学習させるとどうなるか？"
   ]
  },
  {
   "cell_type": "code",
   "execution_count": 30,
   "metadata": {},
   "outputs": [],
   "source": [
    "import numpy as np\n",
    "import math\n",
    "import matplotlib.pyplot as plt\n",
    "\n",
    "class ScratchLogisticRegression_no_binary():\n",
    "    \"\"\"\n",
    "    ロジスティック回帰のスクラッチ実装\n",
    "    \n",
    "    Parameters\n",
    "    ----------\n",
    "    num_iter : int\n",
    "        イテレーション回数\n",
    "        \n",
    "    lr : float\n",
    "        学習率\n",
    "        \n",
    "    lmd : float\n",
    "        正則化パラメータ\n",
    "    \n",
    "    no_bias : bool\n",
    "        バイアス項を入れない場合はTrue\n",
    "    \n",
    "    verbose : bool\n",
    "        学習過程を出力する場合はTrue\n",
    "    \n",
    "    \n",
    "    Attributes\n",
    "    ----------\n",
    "    self.coef_ : 次の形のndarray, shape(n_features,)\n",
    "        パラメータ\n",
    "\n",
    "    self.train_loss : 次の形のndarray, shape(self.iter,)\n",
    "        学習用データに対する損失の記録\n",
    "        \n",
    "    self.val_loss : 次の形のndarray, shape(self.iter,)\n",
    "        検証用データに対する損失の記録\n",
    "        \n",
    "    \"\"\"\n",
    "    \n",
    "    # コンストラクタ\n",
    "    def __init__(self, num_iter = 500, lr = 1e-2, lmd = 1, no_bias = True, verbose = False):\n",
    "        \n",
    "        # ハイパーパラメータを属性として記録\n",
    "        self.iter = num_iter#イテレーション回数\n",
    "        self.lr = lr#学習率\n",
    "        self.lmd = lmd#正則化パラメータ\n",
    "        self.no_bias = no_bias#バイアス項  True :　あり、False：なし\n",
    "        self.verbose = verbose     # 学習過程の表示    True : あり、 False：なし \n",
    "        \n",
    "        # 損失を記録する配列を用意\n",
    "        self.train_loss = np.zeros(self.iter) # 学習用データに基づき計算した損失を記録\n",
    "        self.val_loss = np.zeros(self.iter)    # 検証用データに基づき計算した損失を記録\n",
    "        \n",
    "        # パラメータベクトル\n",
    "        self.coef = 1\n",
    "\n",
    "    def fit(self, X, y, X_val = None, y_val = None):\n",
    "        \"\"\"\n",
    "        シグモイド回帰を学習する\n",
    "        \n",
    "        Parameters\n",
    "        ----------\n",
    "        X : 次の形のndarray, shape (m_samples, n_features)\n",
    "            学習用データの特徴量\n",
    "            \n",
    "        y : 次の形のndarray, shape (m_samples, )\n",
    "            学習用データの正解値\n",
    "        \n",
    "        X_val : 次の形のndarray, shape (m_samples, n_features)\n",
    "            検証用データの特徴量\n",
    "            \n",
    "        y_val : 次の形のndarray, shape (m_samples, )\n",
    "        \n",
    "        \n",
    "        \"\"\"\n",
    "        \n",
    "        if X.ndim == 1:\n",
    "            X[:, np.newaxis] # １次元配列の場合、軸を追加する\n",
    "        if y.ndim == 1:\n",
    "            y[:, np.newaxis] # １次元配列の場合、軸を追加する\n",
    "        \n",
    "\n",
    "        # vervoseをTrueにした場合は学習過程を出力\n",
    "        if self.verbose:\n",
    "            print(self.train_loss)\n",
    "            \n",
    "        # バイアス項を入れる場合（no_bias = True）の場合、バイアス項を水平方向に連結する\n",
    "        if self.no_bias == False:\n",
    "            bias_term = np.ones(len(X)).reshape(-1, 1)  #  (m, 1)行列\n",
    "            X = np.concatenate([bias_term, X], axis = 1) #  (m+1, n)行列\n",
    "            \n",
    "            if (X_val is not None) and (y_val is not None):\n",
    "                bias_term = np.ones(len(X_val)).reshape(-1, 1)  #  (m, 1)行列\n",
    "                X_val = np.concatenate([bias_term, X_val], axis = 1) #  (m+1, n)行列\n",
    "\n",
    "        # パラメータベクトルをランダム関数で初期化\n",
    "        np.random.seed(seed=0)\n",
    "        self.coef = np.random.rand(X.shape[1]).reshape(1,-1)\n",
    "        \n",
    "       \n",
    "        # 正解値のラベルをインスタンス変数に保存しておく（予測値の正解ラベルに使うため）\n",
    "        self.y = y\n",
    "\n",
    "        \"\"\"\n",
    "        # 正解ラベルの要素を(0,1)に変換する\n",
    "        self.y_train = y.copy()\n",
    "      \n",
    "        for i in range(len(self.y_train)):\n",
    "\n",
    "            if self.y_train[i] == min(y):\n",
    "                self.y_train[i] = 0\n",
    "            elif self.y_train[i] == max(y):\n",
    "                self.y_train[i] = 1\n",
    "                \n",
    "        # 検証用データも同様に        \n",
    "        if (X_val is not None) and (y_val is not None):\n",
    "            self.y_val = y_val.copy()\n",
    "            \n",
    "            for i in range(len(self.y_val)):\n",
    "\n",
    "                if self.y_val[i] == min(y_val):\n",
    "                    self.y_val[i] = 0\n",
    "                elif self.y_val[i] == max(y_val):\n",
    "                    self.y_val[i] = 1\n",
    "        \"\"\"\n",
    "\n",
    "        # 所定の試行回数だけ学習を繰り返す\n",
    "        for i in range(self.iter):\n",
    "            \n",
    "            self.gradient_descent(X, y) # 最急降下法（パラメータ更新）\n",
    "            \n",
    "            train_loss = self.cross_entropy_loss(X, y) # 損失を計算\n",
    "            \n",
    "            self.train_loss[i] = train_loss # 配列に格納\n",
    "            \n",
    "            # vervoseをTrueにした場合は学習過程を出力\n",
    "            if self.verbose:\n",
    "                print(\"Train Loss in {0}th iteration : {1}\".format(i, round(train_loss)))\n",
    "                \n",
    "            \n",
    "            if (X_val is not None) and (y_val is not None):\n",
    "                \n",
    "                val_loss = self.cross_entropy_loss(X_val, y_val)              \n",
    "                self.val_loss[i] = val_loss\n",
    "                \n",
    "                if self.verbose:\n",
    "                    print(\"Valid Loss in {0}th iteration : {1}\".format(i, round(val_loss)))\n",
    "                    print(\"\")\n",
    "    \n",
    "    \n",
    "    def predict_prob(self, X):\n",
    "        \"\"\"\n",
    "        予測値に対する確率を算出する\n",
    "        \n",
    "        Parameter\n",
    "        ----------\n",
    "        X : 次の形のndarray, shape(m_samples, n_features)\n",
    "            特徴量\n",
    "        \n",
    "        \n",
    "        Return\n",
    "        ----------\n",
    "        y_pred_prob : 次の形のndarray, shape (m_samples,)\n",
    "            予測値の正解率\n",
    "        \n",
    "        \"\"\"\n",
    "        # バイアス項を入れる場合（no_bias = True）の場合、バイアス項を水平方向に連結する\n",
    "        if self.no_bias == False:\n",
    "            bias_term = np.ones(len(X)).reshape(-1, 1)  #  (m, 1)行列\n",
    "            X = np.concatenate([bias_term, X], axis = 1) #  (m+1, n)行列\n",
    "        \n",
    "        y_pred_prob = self._sigmoid_hypothesis(X)\n",
    "        \n",
    "        return y_pred_prob\n",
    "        \n",
    "        \n",
    "        \n",
    "    def predict(self, X, threshold = 0.5):\n",
    "        \"\"\"\n",
    "        分類ラベルの予測(0 or 1)を返す\n",
    "        \n",
    "        Parameter\n",
    "        ----------\n",
    "        X : 次の形のndarray, shape(m_samples, n_features)\n",
    "            特徴量\n",
    "            \n",
    "        threshold : float\n",
    "            閾値\n",
    "        \n",
    "        \n",
    "        Return\n",
    "        ----------\n",
    "        y_pred : 次の形のndarray, shape (m_samples, )\n",
    "            予測値\n",
    "            \n",
    "        \"\"\"\n",
    "            \n",
    "        # 予測確率\n",
    "        y_pred_prob = self.predict_prob(X) # no_bias = Falseの場合、Xのindexはm+1行\n",
    "        \n",
    "        # 正解ラベルの予測値をゼロで初期化\n",
    "        y_pred = np.zeros(len(y_pred_prob)).reshape(-1,1) # (m,1)行列\n",
    "        \n",
    "        # y_predの各要素について、パラメータを更新する。\n",
    "        for i in range(len(y_pred)):\n",
    "            if y_pred_prob[i] < threshold:\n",
    "                y_pred[i] = min(self.y) # 閾値を下回る場合、negative（正解ラベルのうち大きい値）\n",
    "            else:\n",
    "                y_pred[i] = max(self.y) # 閾値を上回る場合、positive（正解ラベルのうち小さい値）\n",
    "                \n",
    "        return y_pred.astype(\"int64\")\n",
    "        \n",
    "        \n",
    "    def sigmoid(self, z):\n",
    "        \"\"\"\n",
    "        シグモイド関数\n",
    "        \n",
    "        Parameters\n",
    "        ----------\n",
    "        z : 次の形のndarray, shape(m_samples, 1_features)\n",
    "            仮定関数\n",
    "        \n",
    "        \n",
    "        Returns\n",
    "        ----------\n",
    "        prob : \n",
    "            シグモイド関数で算出した確率\n",
    "            \n",
    "        \"\"\"\n",
    "        \n",
    "        prob = 1/(1 + np.exp(-z)) # 演算\n",
    "        \n",
    "        # sigmoid.reshape(-1, 1) # 出力されたベクトルの次元が不定の場合、reshapeする\n",
    "        \n",
    "        \n",
    "        return prob\n",
    "    \n",
    "    \n",
    "\n",
    "    def _linear_hypothesis(self, X):\n",
    "        \"\"\"\n",
    "        線形の仮定関数\n",
    "\n",
    "        Parameters\n",
    "        ----------\n",
    "        X : 次の形のndarray, shape(m_samples, n_features)\n",
    "            学習データ\n",
    "\n",
    "\n",
    "        Returns\n",
    "        ----------\n",
    "            次の形のndarray, shape(m_samples, 1)\n",
    "            線形の仮定関数による推定結果\n",
    "\n",
    "        \"\"\"\n",
    "        # 仮定関数\n",
    "        line_hypo = np.dot(X, self.coef.T)\n",
    "\n",
    "        return line_hypo\n",
    "    \n",
    "   \n",
    "\n",
    "    def _sigmoid_hypothesis(self, X):\n",
    "        \"\"\"\n",
    "        シグモイド仮定関数\n",
    "\n",
    "        Parameters\n",
    "        ----------\n",
    "        X : 次の形のndarray, shape(m_samples, n_features)\n",
    "            学習データ\n",
    "\n",
    "\n",
    "        Returns\n",
    "        ----------\n",
    "            次の形のndarray, shape(m_samples, 1)\n",
    "            シグモイド形の仮定関数による推定結果\n",
    "\n",
    "        \"\"\"\n",
    "\n",
    "        z = self._linear_hypothesis(X) # 線形和\n",
    "\n",
    "        sig_hypo = self.sigmoid(z) # 予測確率\n",
    "\n",
    "        return sig_hypo\n",
    "    \n",
    "    \n",
    "\n",
    "    def regularization_term(self, X):\n",
    "        \"\"\"\n",
    "        正則化項\n",
    "\n",
    "        Parameters\n",
    "        ----------\n",
    "        X : 次の形のndarray, shape(m_samples, n_features)\n",
    "            学習用データ\n",
    "\n",
    "        coef : 次の形のndarray, shape(1_sample, n_features)\n",
    "            パラメータベクトル\n",
    "\n",
    "        lmd : int\n",
    "            正則化パラメータ\n",
    "\n",
    "        Returns\n",
    "        ----------\n",
    "        reg_term : float64\n",
    "            正則化項\n",
    "\n",
    "        \"\"\"\n",
    "        \n",
    "        reg_term = self.lmd / len(X) * np.sum(self.coef ** 2)  # 正則化項\n",
    "\n",
    "        return reg_term    \n",
    "    \n",
    "    \n",
    "    def cross_entropy_loss(self, X, y):\n",
    "        \"\"\"\n",
    "        クロスエントロピー損失を求める\n",
    "        \n",
    "        Parameters\n",
    "        ----------\n",
    "        X : 次の形のndarray, shape(m_samples, n_features)\n",
    "            学習データ\n",
    "\n",
    "        y : 次の形のndarray, shape(m_samples, 1_feature)\n",
    "            正解値\n",
    "\n",
    "        Returns\n",
    "        ----------\n",
    "        loss : float64\n",
    "            損失\n",
    "\n",
    "        \"\"\"\n",
    "\n",
    "        # 正則化項\n",
    "        reg_term = self.regularization_term(X)\n",
    "        #print(\"regularization_term.shape:{}\".format(reg_term.shape))\n",
    "\n",
    "        # シグモイド仮定関数\n",
    "        sig_hypo = self._sigmoid_hypothesis(X) # 確率\n",
    "\n",
    "        # 目的関数の第１項\n",
    "        first_term = - y * np.log(sig_hypo)\n",
    "        \n",
    "        # 目的関数の第２項\n",
    "        second_term = - (1 - y) * np.log(1- sig_hypo)\n",
    "\n",
    "        # 目的関数の計算結果\n",
    "        loss = np.sum(first_term + second_term + reg_term)\n",
    "\n",
    "        return loss\n",
    "    \n",
    "    \n",
    "    \n",
    "    def gradient_descent(self, X, y):\n",
    "        \"\"\"\n",
    "        最急降下法（パラメータの更新） \n",
    "        \n",
    "        Parameters\n",
    "        ----------\n",
    "        X : 次の形のndarray, shape(m_sample, n_features)\n",
    "            学習データ\n",
    "\n",
    "        y ： 次の形のndarray, shape(m_sample, 1_feature)\n",
    "            正解値\n",
    "\n",
    "\n",
    "        Returns\n",
    "        ----------\n",
    "        coef : 次の形のndarray, shape(1_sample, n_features)\n",
    "            パラメータベクトル\n",
    "\n",
    "        \"\"\"\n",
    "\n",
    "        # シグモイド仮定関数\n",
    "        sig_hypo = self._sigmoid_hypothesis(X)\n",
    "\n",
    "        # 第1項\n",
    "        grad_first_term =  np.dot(sig_hypo.T,  X) / len(X)\n",
    "        \n",
    "        # 第２項\n",
    "        temp_coef = self.coef #演算用に用いるパラメータを作成\n",
    "        \n",
    "        if self.no_bias == False:\n",
    "            temp_coef[0][0] = 0 # バイアスありの場合、バイアス項に対するパラメータ（θ）をゼロにする\n",
    "        \n",
    "        \n",
    "        grad_second_term = self.lmd / len(X) * temp_coef\n",
    "        grad_second_term = grad_second_term.reshape(1,-1)\n",
    "        \n",
    "        # パラメータ更新\n",
    "        self.coef -= self.lr * (grad_first_term + grad_second_term)        \n",
    "        \n",
    "        \n",
    "    def show_learning_curve(self,):\n",
    "        \"\"\"\n",
    "        学習過程をグラフに描画\n",
    "        \n",
    "        \"\"\"\n",
    "        \n",
    "        if self.val_loss.all() == 0:\n",
    "            None\n",
    "        else:\n",
    "            plt.plot(self.val_loss, label=\"val_loss\") # 検証用データによる交差エントロピー損失\n",
    "        \n",
    "        plt.plot(self.train_loss, label = \"train_loss\") # 学習用データによる交差エントロピー損失        \n",
    "        plt.xlabel(\"iteration\") \n",
    "        plt.ylabel(\"cross_entropy_loss\")\n",
    "        plt.title(\"Learning_Curve\")\n",
    "        plt.legend()\n",
    "        plt.show()\n",
    "        "
   ]
  },
  {
   "cell_type": "code",
   "execution_count": 25,
   "metadata": {},
   "outputs": [
    {
     "data": {
      "text/html": [
       "<div>\n",
       "<style scoped>\n",
       "    .dataframe tbody tr th:only-of-type {\n",
       "        vertical-align: middle;\n",
       "    }\n",
       "\n",
       "    .dataframe tbody tr th {\n",
       "        vertical-align: top;\n",
       "    }\n",
       "\n",
       "    .dataframe thead th {\n",
       "        text-align: right;\n",
       "    }\n",
       "</style>\n",
       "<table border=\"1\" class=\"dataframe\">\n",
       "  <thead>\n",
       "    <tr style=\"text-align: right;\">\n",
       "      <th></th>\n",
       "      <th>y_pred</th>\n",
       "      <th>y_test</th>\n",
       "    </tr>\n",
       "  </thead>\n",
       "  <tbody>\n",
       "    <tr>\n",
       "      <th>0</th>\n",
       "      <td>1</td>\n",
       "      <td>2</td>\n",
       "    </tr>\n",
       "    <tr>\n",
       "      <th>1</th>\n",
       "      <td>1</td>\n",
       "      <td>1</td>\n",
       "    </tr>\n",
       "    <tr>\n",
       "      <th>2</th>\n",
       "      <td>1</td>\n",
       "      <td>2</td>\n",
       "    </tr>\n",
       "    <tr>\n",
       "      <th>3</th>\n",
       "      <td>1</td>\n",
       "      <td>1</td>\n",
       "    </tr>\n",
       "    <tr>\n",
       "      <th>4</th>\n",
       "      <td>1</td>\n",
       "      <td>1</td>\n",
       "    </tr>\n",
       "    <tr>\n",
       "      <th>5</th>\n",
       "      <td>1</td>\n",
       "      <td>1</td>\n",
       "    </tr>\n",
       "    <tr>\n",
       "      <th>6</th>\n",
       "      <td>1</td>\n",
       "      <td>1</td>\n",
       "    </tr>\n",
       "    <tr>\n",
       "      <th>7</th>\n",
       "      <td>1</td>\n",
       "      <td>1</td>\n",
       "    </tr>\n",
       "    <tr>\n",
       "      <th>8</th>\n",
       "      <td>1</td>\n",
       "      <td>1</td>\n",
       "    </tr>\n",
       "    <tr>\n",
       "      <th>9</th>\n",
       "      <td>1</td>\n",
       "      <td>1</td>\n",
       "    </tr>\n",
       "    <tr>\n",
       "      <th>10</th>\n",
       "      <td>2</td>\n",
       "      <td>2</td>\n",
       "    </tr>\n",
       "    <tr>\n",
       "      <th>11</th>\n",
       "      <td>2</td>\n",
       "      <td>2</td>\n",
       "    </tr>\n",
       "    <tr>\n",
       "      <th>12</th>\n",
       "      <td>2</td>\n",
       "      <td>2</td>\n",
       "    </tr>\n",
       "    <tr>\n",
       "      <th>13</th>\n",
       "      <td>1</td>\n",
       "      <td>1</td>\n",
       "    </tr>\n",
       "    <tr>\n",
       "      <th>14</th>\n",
       "      <td>1</td>\n",
       "      <td>1</td>\n",
       "    </tr>\n",
       "    <tr>\n",
       "      <th>15</th>\n",
       "      <td>1</td>\n",
       "      <td>1</td>\n",
       "    </tr>\n",
       "    <tr>\n",
       "      <th>16</th>\n",
       "      <td>1</td>\n",
       "      <td>1</td>\n",
       "    </tr>\n",
       "    <tr>\n",
       "      <th>17</th>\n",
       "      <td>1</td>\n",
       "      <td>1</td>\n",
       "    </tr>\n",
       "    <tr>\n",
       "      <th>18</th>\n",
       "      <td>2</td>\n",
       "      <td>2</td>\n",
       "    </tr>\n",
       "    <tr>\n",
       "      <th>19</th>\n",
       "      <td>1</td>\n",
       "      <td>2</td>\n",
       "    </tr>\n",
       "    <tr>\n",
       "      <th>20</th>\n",
       "      <td>1</td>\n",
       "      <td>1</td>\n",
       "    </tr>\n",
       "    <tr>\n",
       "      <th>21</th>\n",
       "      <td>1</td>\n",
       "      <td>1</td>\n",
       "    </tr>\n",
       "    <tr>\n",
       "      <th>22</th>\n",
       "      <td>1</td>\n",
       "      <td>2</td>\n",
       "    </tr>\n",
       "    <tr>\n",
       "      <th>23</th>\n",
       "      <td>1</td>\n",
       "      <td>1</td>\n",
       "    </tr>\n",
       "    <tr>\n",
       "      <th>24</th>\n",
       "      <td>2</td>\n",
       "      <td>2</td>\n",
       "    </tr>\n",
       "  </tbody>\n",
       "</table>\n",
       "</div>"
      ],
      "text/plain": [
       "    y_pred  y_test\n",
       "0        1       2\n",
       "1        1       1\n",
       "2        1       2\n",
       "3        1       1\n",
       "4        1       1\n",
       "5        1       1\n",
       "6        1       1\n",
       "7        1       1\n",
       "8        1       1\n",
       "9        1       1\n",
       "10       2       2\n",
       "11       2       2\n",
       "12       2       2\n",
       "13       1       1\n",
       "14       1       1\n",
       "15       1       1\n",
       "16       1       1\n",
       "17       1       1\n",
       "18       2       2\n",
       "19       1       2\n",
       "20       1       1\n",
       "21       1       1\n",
       "22       1       2\n",
       "23       1       1\n",
       "24       2       2"
      ]
     },
     "execution_count": 25,
     "metadata": {},
     "output_type": "execute_result"
    }
   ],
   "source": [
    "# インスタンスオブジェクトを生成\n",
    "LR_worse = ScratchLogisticRegression_no_binary()\n",
    "\n",
    "# 学習\n",
    "LR_worse.fit(X_train_std, y_train)\n",
    "\n",
    "# 検証データの予測値を出力\n",
    "y_pred_prob_worse = LR_worse.predict_prob(X_test_std)\n",
    "\n",
    "# 検証データの予測値を出力\n",
    "y_pred_worse = LR_worse.predict(X_test_std)\n",
    "\n",
    "# データフレームを作成\n",
    "data_worse = pd.DataFrame(y_pred_worse, columns=[\"y_pred\"])\n",
    "data_worse[\"y_test\"] = y_test\n",
    "\n",
    "# 出力\n",
    "data_worse"
   ]
  },
  {
   "cell_type": "code",
   "execution_count": 26,
   "metadata": {},
   "outputs": [
    {
     "name": "stdout",
     "output_type": "stream",
     "text": [
      "accuracy : 0.84\n",
      "precision : 0.8\n",
      "recall : 1.0\n",
      "f1_score : 0.89\n"
     ]
    }
   ],
   "source": [
    "print(\"accuracy : {}\".format(round(accuracy_score(y_test, y_pred_worse),2))) # 正解率\n",
    "print(\"precision : {}\".format(round(precision_score(y_test, y_pred_worse),2))) # 適合率\n",
    "print(\"recall : {}\".format(round(recall_score(y_test, y_pred_worse),2)))      # 検出率\n",
    "print(\"f1_score : {}\".format(round(f1_score(y_test, y_pred_worse),2)))   #  f1-score"
   ]
  },
  {
   "cell_type": "code",
   "execution_count": 27,
   "metadata": {},
   "outputs": [
    {
     "name": "stdout",
     "output_type": "stream",
     "text": [
      "auc : 0.78\n"
     ]
    },
    {
     "data": {
      "image/png": "[encoded data removed]",
      "text/plain": [
       "<Figure size 432x288 with 1 Axes>"
      ]
     },
     "metadata": {
      "needs_background": "light"
     },
     "output_type": "display_data"
    }
   ],
   "source": [
    "\"\"\"\n",
    "予測値に基づくROC curve\n",
    "\"\"\"\n",
    "\n",
    "# AUC(Compute Area Under the Curve)\n",
    "fpr, tpr, thresholds = roc_curve(y_test, y_pred_worse, pos_label = 2)\n",
    "auc = metrics.auc(fpr, tpr)\n",
    "print(\"auc : {}\".format(round(auc,2)))\n",
    "\n",
    "# 可視化\n",
    "import matplotlib.pyplot as plt\n",
    "\n",
    "plt.plot(fpr, tpr, label='ROC curve (area = %.2f)'%auc)\n",
    "plt.legend()\n",
    "plt.title(\"ROC curve\")\n",
    "plt.xlabel(\"False Positive Rate\")\n",
    "plt.ylabel(\"True Positive Rate\")\n",
    "plt.grid(True)"
   ]
  },
  {
   "cell_type": "code",
   "execution_count": 28,
   "metadata": {},
   "outputs": [
    {
     "name": "stdout",
     "output_type": "stream",
     "text": [
      "auc : 0.9305555555555556\n"
     ]
    },
    {
     "data": {
      "image/png": "[encoded data removed]",
      "text/plain": [
       "<Figure size 432x288 with 1 Axes>"
      ]
     },
     "metadata": {
      "needs_background": "light"
     },
     "output_type": "display_data"
    }
   ],
   "source": [
    "\"\"\"\n",
    "予測確率に基づくROC curve\n",
    "\"\"\"\n",
    "import matplotlib.pyplot as plt\n",
    "\n",
    "fpr, tpr, thresholds = roc_curve(y_test, y_pred_prob_worse, pos_label = 2)\n",
    "auc = metrics.auc(fpr, tpr)\n",
    "\n",
    "# aucを出力\n",
    "print(\"auc : {}\".format(auc))\n",
    "\n",
    "\n",
    "# ROC Curveを出力\n",
    "plt.plot(fpr, tpr, label='ROC curve (area = %.2f)'%auc)\n",
    "plt.legend()\n",
    "plt.title(\"ROC curve\")\n",
    "plt.xlabel(\"False Positive Rate\")\n",
    "plt.ylabel(\"True Positive Rate\")\n",
    "plt.grid(True)"
   ]
  },
  {
   "cell_type": "markdown",
   "metadata": {},
   "source": [
    "- バイアスを含めず、正解ラベルを(0,1)に変換するケースと変換しないケースを比較した場合、スコアリング、auc（及びROC curve）に変化は見られなかった。\n",
    "\n",
    "- 交差エントロピー損失関数の特性から正解ラベルを(0, 1)に変換する必要があるのではないかと考えたが、変換しなくともモデルの予測精度に違いは生じないとの結論に達した。（交差エントロピー損失関数が下に凸の関数であることに起因すると思われる）"
   ]
  },
  {
   "cell_type": "markdown",
   "metadata": {},
   "source": [
    "### 補足３：エントロピーについて"
   ]
  },
  {
   "attachments": {},
   "cell_type": "markdown",
   "metadata": {},
   "source": [
    "- 物理学：熱力学および統計力学において定義される示量性の状態量\n",
    "\n",
    "\n",
    "- 情報理論:エントロピーは確率変数が持つ情報の量を表す尺度であり、\"情報量\"( ～～ということが起こる場合の数)とも呼ばれる。以下の3つの意味がある。\n",
    "\n",
    "    - 情報の量 (Amount of Information)\n",
    "    - 不確実性 (Uncertainty)\n",
    "    - 圧縮の出来なさ (Incompressibility)\n",
    "    \n",
    "    [Wikipedia](https://ja.wikipedia.org/wiki/%E6%83%85%E5%A0%B1%E9%87%8F#.E5.B9.B3.E5.9D.87.E6.83.85.E5.A0.B1.E9.87.8F.EF.BC.88.E3.82.A8.E3.83.B3.E3.83.88.E3.83.AD.E3.83.94.E3.83.BC.EF.BC.89])\n",
    "\n",
    "\n",
    "- 尚、以下の参照元で、「\"エントロピー\"とは\"ゴミ\"のことである」と端的に述べられており、馴染みやすい例えだと思った。\n",
    "\n",
    " [小学生でも分かるエントロピーの話](https://macasakr.sakura.ne.jp/entropy.html)\n",
    "\n",
    "---\n",
    "    - この部屋は散らかっているのでゴミが多い。\n",
    "\n",
    "    - コーヒーにミルクを入れてかき混ぜたらゴミの様になった。\n",
    "\n",
    "    - 経済系は生態系から資源、エネルギーを採取し、そして生態系へゴミを排出する。\n",
    "\n",
    "    - 環境問題において重要なのは、ゴミを増加させない事だ。\n",
    "\n",
    "    - 廃棄物の処分が出来なくなった時点、すなわちゴミが最大となったところで、経済成長は止まらざるを得なくなる。\n",
    "\n",
    "    - 情報の価値を失うという事は、情報ゴミを受け取るという事である。\n",
    "---"
   ]
  }
 ],
 "metadata": {
  "kernelspec": {
   "display_name": "Python 3",
   "language": "python",
   "name": "python3"
  },
  "language_info": {
   "codemirror_mode": {
    "name": "ipython",
    "version": 3
   },
   "file_extension": ".py",
   "mimetype": "text/x-python",
   "name": "python",
   "nbconvert_exporter": "python",
   "pygments_lexer": "ipython3",
   "version": "3.7.1"
  }
 },
 "nbformat": 4,
 "nbformat_minor": 2
}
