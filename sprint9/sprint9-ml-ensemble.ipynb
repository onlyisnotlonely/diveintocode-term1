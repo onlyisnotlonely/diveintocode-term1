{
 "cells": [
  {
   "cell_type": "markdown",
   "metadata": {},
   "source": [
    "# Sprint9課題 アンサンブル学習、グループワーク"
   ]
  },
  {
   "cell_type": "markdown",
   "metadata": {},
   "source": [
    "## この課題の目的\n",
    "\n",
    "- アンサンブル学習について理解する"
   ]
  },
  {
   "cell_type": "markdown",
   "metadata": {},
   "source": [
    "## アンサンブル学習\n",
    "\n",
    "3種類のアンサンブル学習の効果を小さめのデータセットで確認する。\n",
    "\n",
    "- ブレンディング\n",
    "- バギング\n",
    "- スタッキング"
   ]
  },
  {
   "cell_type": "markdown",
   "metadata": {},
   "source": [
    "### ライブラリ、モジュールの管理"
   ]
  },
  {
   "cell_type": "code",
   "execution_count": 1,
   "metadata": {},
   "outputs": [
    {
     "name": "stderr",
     "output_type": "stream",
     "text": [
      "/Users/makintosh/.pyenv/versions/anaconda3-5.3.1/lib/python3.7/site-packages/sklearn/ensemble/weight_boosting.py:29: DeprecationWarning: numpy.core.umath_tests is an internal NumPy module and should not be imported. It will be removed in a future NumPy release.\n",
      "  from numpy.core.umath_tests import inner1d\n"
     ]
    }
   ],
   "source": [
    "# 演算\n",
    "import numpy as np\n",
    "import pandas as pd\n",
    "\n",
    "# 可視化\n",
    "import matplotlib.pyplot as plt\n",
    "import seaborn as sns\n",
    "\n",
    "# 機械学習\n",
    "from sklearn.linear_model import LinearRegression\n",
    "from sklearn.svm import SVR\n",
    "from sklearn.tree import DecisionTreeRegressor\n",
    "from sklearn.ensemble import VotingClassifier\n",
    "from sklearn.model_selection import train_test_split, KFold, StratifiedKFold\n",
    "from sklearn import metrics\n",
    "from sklearn.metrics import mean_squared_error\n",
    "from sklearn.preprocessing import StandardScaler\n",
    "from sklearn.pipeline import Pipeline\n",
    "\n",
    "# その他\n",
    "import pprint"
   ]
  },
  {
   "cell_type": "markdown",
   "metadata": {},
   "source": [
    "### 小さなデータセットの用意\n",
    "以前も利用した回帰のデータセットを用意する。\n",
    "\n",
    "[House Prices: Advanced Regression Techniques](https://www.kaggle.com/c/house-prices-advanced-regression-techniques/data)\n",
    "\n",
    "この中のtrain.csvをダウンロードし、目的変数としてSalePrice、説明変数として、GrLivAreaとYearBuiltを使う。\n",
    "\n",
    "train.csvを学習用（train）8割、検証用（val）2割に分割すること。"
   ]
  },
  {
   "cell_type": "markdown",
   "metadata": {},
   "source": [
    "### データの準備"
   ]
  },
  {
   "cell_type": "code",
   "execution_count": 2,
   "metadata": {},
   "outputs": [],
   "source": [
    "# import \"House Prices\" train data\n",
    "df_origin = pd.read_csv(\"train.csv\")"
   ]
  },
  {
   "cell_type": "code",
   "execution_count": 3,
   "metadata": {},
   "outputs": [],
   "source": [
    "# 利用データを抽出する\n",
    "columns = ['YearBuilt', 'GrLivArea', 'SalePrice']\n",
    "df = df_origin[columns]\n",
    "\n",
    "# 説明変数\n",
    "X = df.drop(\"SalePrice\", axis = 1)\n",
    "\n",
    "# 目的変数\n",
    "y = df[\"SalePrice\"]"
   ]
  },
  {
   "cell_type": "code",
   "execution_count": 4,
   "metadata": {},
   "outputs": [],
   "source": [
    "# データを分割する\n",
    "X_train, X_test, y_train, y_test = train_test_split(X.values, y.values)"
   ]
  },
  {
   "cell_type": "markdown",
   "metadata": {},
   "source": [
    "### 標準化"
   ]
  },
  {
   "cell_type": "code",
   "execution_count": null,
   "metadata": {},
   "outputs": [],
   "source": [
    "\"\"\"\n",
    "説明変数\n",
    "\"\"\"\n",
    "# 学習用\n",
    "ss = StandardScaler()\n",
    "ss.fit(X_train)\n",
    "X_train_std = ss.transform(X_train)\n",
    "\n",
    "# 検証用\n",
    "ss = StandardScaler()\n",
    "ss.fit(X_test)\n",
    "X_test_std = ss.transform(X_test)\n",
    "\n",
    "\"\"\"\n",
    "目的変数\n",
    "\"\"\"\n",
    "# 学習用\n",
    "ss = StandardScaler()\n",
    "ss.fit(y_train.reshape(-1,1))\n",
    "y_train_std = ss.transform(y_train.reshape(-1,1))\n",
    "\n",
    "# 検証用\n",
    "ss = StandardScaler()\n",
    "ss.fit(y_test.reshape(-1, 1))\n",
    "y_test_std = ss.transform(y_test.reshape(-1,1))"
   ]
  },
  {
   "cell_type": "markdown",
   "metadata": {},
   "source": [
    "### scikit-learn\n",
    "単一のモデルはスクラッチ実装ではなく、scikit-learnなどのライブラリの使用を推奨する。\n",
    "\n",
    "[sklearn.linear_model.LinearRegression — scikit-learn 0.20.0 documentation](https://scikit-learn.org/stable/modules/generated/sklearn.linear_model.LinearRegression.html)\n",
    "\n",
    "[sklearn.svm.SVR — scikit-learn 0.20.0 documentation](https://scikit-learn.org/stable/modules/generated/sklearn.svm.SVR.html)\n",
    "\n",
    "[sklearn.tree.DecisionTreeRegressor — scikit-learn 0.20.0 documentation](https://scikit-learn.org/stable/modules/generated/sklearn.tree.DecisionTreeRegressor.html)"
   ]
  },
  {
   "cell_type": "markdown",
   "metadata": {},
   "source": [
    "## 【問題1】ブレンディング\n",
    "ブレンディングを実装し、単一モデルより精度が改善する例を最低3つ示すこと。\n",
    "\n",
    "精度が改善するとは、検証用データに対する平均二乗誤差（MSE）が小さくなることを示す。\n",
    "\n",
    "ブレンディングとは、N個の多様なモデルを独立して学習させ、推定結果を重み付けした上で足し合わせる方法。（最も単純には平均をとる）\n",
    "\n",
    "多様なモデルとは、以下のような条件を変化させることで作り出すもの。\n",
    "\n",
    "- 手法（例：線形回帰、SVM、決定木、ニューラルネットワークなど）\n",
    "- ハイパーパラメータ（例：SVMのカーネルの種類、重みの初期値など）\n",
    "- 入力データの前処理の仕方（例：標準化、対数変換、PCAなど）\n",
    "\n",
    "重要なのはそれぞれのモデルが大きく異なることであり、必ずしも単一モデルの精度が高い必要はない。\n",
    "\n",
    "回帰問題でのブレンディングは非常に単純であるため、scikit-learnには用意されていない。\n",
    "\n",
    "- 補足\n",
    "\n",
    "分類問題の場合は、多数決を行う。\n",
    "回帰問題に比べると複雑なため、scikit-learnにはVotingClassifierが用意されている。\n",
    "\n",
    "[sklearn.ensemble.VotingClassifier — scikit-learn 0.20.0 documentation](https://scikit-learn.org/stable/modules/generated/sklearn.ensemble.VotingClassifier.html)\n",
    "\n",
    "- 考察\n",
    "\n",
    "どういった組み合わせが良いか、どのようにすると多様なモデルが作れるかを考えること。"
   ]
  },
  {
   "cell_type": "markdown",
   "metadata": {},
   "source": [
    "### モデルの学習"
   ]
  },
  {
   "cell_type": "code",
   "execution_count": 6,
   "metadata": {
    "scrolled": false
   },
   "outputs": [
    {
     "name": "stdout",
     "output_type": "stream",
     "text": [
      "X_train_std.shape : (1095, 2)\n",
      "y_train_std.shape : (1095, 1)\n"
     ]
    }
   ],
   "source": [
    "print(\"X_train_std.shape : {}\".format(X_train_std.shape))\n",
    "print(\"y_train_std.shape : {}\".format(y_train_std.shape))"
   ]
  },
  {
   "cell_type": "code",
   "execution_count": 7,
   "metadata": {},
   "outputs": [
    {
     "data": {
      "text/plain": [
       "<matplotlib.collections.PathCollection at 0x1a1ff0b8d0>"
      ]
     },
     "execution_count": 7,
     "metadata": {},
     "output_type": "execute_result"
    },
    {
     "data": {
      "image/png": "[encoded data removed]",
      "text/plain": [
       "<Figure size 432x288 with 1 Axes>"
      ]
     },
     "metadata": {
      "needs_background": "light"
     },
     "output_type": "display_data"
    }
   ],
   "source": [
    "# 可視化\n",
    "plt.scatter(X_test_std[:, 0], X_test_std[:, 1])"
   ]
  },
  {
   "cell_type": "markdown",
   "metadata": {},
   "source": [
    "### パターン１：ハイパーパラメータをデフォルトに設定"
   ]
  },
  {
   "cell_type": "code",
   "execution_count": 8,
   "metadata": {
    "scrolled": false
   },
   "outputs": [
    {
     "name": "stderr",
     "output_type": "stream",
     "text": [
      "/Users/makintosh/.pyenv/versions/anaconda3-5.3.1/lib/python3.7/site-packages/sklearn/utils/validation.py:578: DataConversionWarning: A column-vector y was passed when a 1d array was expected. Please change the shape of y to (n_samples, ), for example using ravel().\n",
      "  y = column_or_1d(y, warn=True)\n"
     ]
    },
    {
     "name": "stdout",
     "output_type": "stream",
     "text": [
      "[classifier : LR]  mse : 0.335\n",
      "[classifier : SVR]  mse : 0.3\n",
      "[classifier : DTR]  mse : 0.58\n",
      "\n",
      "R2 : [0.66, 0.7, 0.42]\n",
      "\n",
      "model : ['LR', 'SVR', 'DTR'] / weight : [[0.371]\n",
      " [0.393]\n",
      " [0.236]]\n",
      "\n",
      "[ensemble] mse : 0.279\n",
      "[ensemble] r2_score : 0.721\n"
     ]
    }
   ],
   "source": [
    "RANDOM_STATE = 1\n",
    "\n",
    "# 機械学習モデルをリストに格納\n",
    "models = []\n",
    "models.append((\"LR\", LinearRegression())) # ロジスティック回帰\n",
    "models.append((\"SVR\", SVR())) # サポートベクターマシン\n",
    "models.append((\"DTR\", DecisionTreeRegressor(random_state = RANDOM_STATE))) # 決定木\n",
    "\n",
    "# 複数のclassifierの適用\n",
    "names = [] # モデル名\n",
    "preds = [] # 予測値\n",
    "mses = [] # 平均二乗誤差\n",
    "r2_list = [] # 決定係数\n",
    "\n",
    "for name, model in models:\n",
    "    model.fit(X_train_std, y_train_std) # 学習\n",
    "    y_pred = model.predict(X_test_std).flatten() # 予測\n",
    "    mse = np.round(mean_squared_error(y_test_std, y_pred),3) # 平均二乗誤差\n",
    "    r2 = np.round(metrics.r2_score(y_test_std, y_pred),2)\n",
    "    \n",
    "    # リストに追加\n",
    "    names.append(name)\n",
    "    preds.append(y_pred)\n",
    "    mses.append(mse)\n",
    "    r2_list.append(r2)\n",
    "\n",
    "# 結果の出力\n",
    "for i in range(len(mses)):\n",
    "    print(\"[classifier : {0}]  mse : {1}\".format(names[i], mses[i]))\n",
    "\n",
    "# ウェイトの生成（決定係数の比率をウェイトとする）\n",
    "print(\"\")\n",
    "print(\"R2 : {}\".format(r2_list))\n",
    "\n",
    "weight = np.round(np.array(r2_list / sum(r2_list)).reshape(-1,1), 3)\n",
    "print(\"\")\n",
    "print(\"model : {} / weight : {}\".format(names, weight))\n",
    "\n",
    "# 加重平均\n",
    "ensemble_pred = np.dot(np.array(preds).T, weight)\n",
    "\n",
    "# 平均二乗誤差\n",
    "mse_ensemble = mean_squared_error(ensemble_pred, y_test_std)\n",
    "print(\"\")\n",
    "print(\"[ensemble] mse : {}\".format(np.round(mse_ensemble, 3)))\n",
    "print(\"[ensemble] r2_score : {}\".format(np.round(metrics.r2_score(y_test_std, ensemble_pred), 3)))"
   ]
  },
  {
   "cell_type": "markdown",
   "metadata": {},
   "source": [
    "- 各モデルの予測値を決定係数で重み付けした結果、MSEが改善した。"
   ]
  },
  {
   "cell_type": "markdown",
   "metadata": {},
   "source": [
    "### パターン２：SVMのパラメーターを変更（kernel : \"rbf\")\n",
    "\n",
    "ハイパーパラメータの\"rbf\"とは？\n",
    "\n",
    "- Radial basis function kernelの略\n",
    "\n",
    "- カーネル関数 ： $K(x, x')=\\exp(-\\gamma||x-x'||^2)$ where $\\gamma=-\\frac{1}{2\\sigma^2}$"
   ]
  },
  {
   "cell_type": "code",
   "execution_count": 9,
   "metadata": {},
   "outputs": [
    {
     "name": "stdout",
     "output_type": "stream",
     "text": [
      "[classifier : LR]  mse : 0.335\n",
      "[classifier : SVR]  mse : 0.3\n",
      "[classifier : DTR]  mse : 0.58\n",
      "\n",
      "R2 : [0.66, 0.7, 0.42]\n",
      "\n",
      "model : ['LR', 'SVR', 'DTR'] / weight : [[0.371]\n",
      " [0.393]\n",
      " [0.236]]\n",
      "\n",
      "[ensemble] mse : 0.279\n",
      "[ensemble] r2_score : 0.721\n"
     ]
    },
    {
     "name": "stderr",
     "output_type": "stream",
     "text": [
      "/Users/makintosh/.pyenv/versions/anaconda3-5.3.1/lib/python3.7/site-packages/sklearn/utils/validation.py:578: DataConversionWarning: A column-vector y was passed when a 1d array was expected. Please change the shape of y to (n_samples, ), for example using ravel().\n",
      "  y = column_or_1d(y, warn=True)\n"
     ]
    }
   ],
   "source": [
    "RANDOM_STATE = 1\n",
    "\n",
    "# 機械学習モデルをリストに格納\n",
    "models = []\n",
    "models.append((\"LR\", LinearRegression())) # ロジスティック回帰\n",
    "models.append((\"SVR\", SVR(kernel = \"rbf\"))) # サポートベクターマシン\n",
    "models.append((\"DTR\", DecisionTreeRegressor(random_state = RANDOM_STATE))) # 決定木\n",
    "\n",
    "# 複数のclassifierの適用\n",
    "names = [] # モデル名\n",
    "preds = [] # 予測値\n",
    "mses = [] # 平均二乗誤差\n",
    "r2_list = [] # 決定係数\n",
    "\n",
    "for name, model in models:\n",
    "    model.fit(X_train_std, y_train_std) # 学習\n",
    "    y_pred = model.predict(X_test_std).flatten() # 予測\n",
    "    mse = np.round(mean_squared_error(y_test_std, y_pred),3) # 平均二乗誤差\n",
    "    r2 = np.round(metrics.r2_score(y_test_std, y_pred),2)\n",
    "    \n",
    "    # リストに追加\n",
    "    names.append(name)\n",
    "    preds.append(y_pred)\n",
    "    mses.append(mse)\n",
    "    r2_list.append(r2)\n",
    "\n",
    "# 結果の出力\n",
    "for i in range(len(mses)):\n",
    "    print(\"[classifier : {0}]  mse : {1}\".format(names[i], mses[i]))\n",
    "\n",
    "# ウェイトの生成（決定係数の比率をウェイトとする）\n",
    "print(\"\")\n",
    "print(\"R2 : {}\".format(r2_list))\n",
    "\n",
    "weight = np.round(np.array(r2_list / sum(r2_list)).reshape(-1,1), 3)\n",
    "print(\"\")\n",
    "print(\"model : {} / weight : {}\".format(names, weight))\n",
    "\n",
    "# 加重平均\n",
    "ensemble_pred = np.dot(np.array(preds).T, weight)\n",
    "\n",
    "# 平均二乗誤差\n",
    "mse_ensemble = mean_squared_error(ensemble_pred, y_test_std)\n",
    "\n",
    "print(\"\")\n",
    "print(\"[ensemble] mse : {}\".format(np.round(mse_ensemble, 3)))\n",
    "print(\"[ensemble] r2_score : {}\".format(np.round(metrics.r2_score(y_test_std, ensemble_pred), 3)))"
   ]
  },
  {
   "cell_type": "markdown",
   "metadata": {},
   "source": [
    "### パターン3：DTRのパラメーターを変更（max_depth : 3)"
   ]
  },
  {
   "cell_type": "code",
   "execution_count": 45,
   "metadata": {},
   "outputs": [
    {
     "name": "stdout",
     "output_type": "stream",
     "text": [
      "[classifier : LR]  mse : 0.335\n",
      "[classifier : SVR]  mse : 0.3\n",
      "[classifier : DTR]  mse : 0.307\n",
      "\n",
      "R2 : [0.665, 0.7, 0.693]\n",
      "\n",
      "model : ['LR', 'SVR', 'DTR'] / weight : [[0.323]\n",
      " [0.34 ]\n",
      " [0.337]]\n",
      "\n",
      "[ensemble] mse : 0.277\n",
      "[ensemble] r2_score : 0.723\n"
     ]
    },
    {
     "name": "stderr",
     "output_type": "stream",
     "text": [
      "/Users/makintosh/.pyenv/versions/anaconda3-5.3.1/lib/python3.7/site-packages/sklearn/utils/validation.py:578: DataConversionWarning: A column-vector y was passed when a 1d array was expected. Please change the shape of y to (n_samples, ), for example using ravel().\n",
      "  y = column_or_1d(y, warn=True)\n"
     ]
    }
   ],
   "source": [
    "RANDOM_STATE = 1\n",
    "\n",
    "# 機械学習モデルをリストに格納\n",
    "models = []\n",
    "models.append((\"LR\", LinearRegression())) # ロジスティック回帰\n",
    "models.append((\"SVR\", SVR())) # サポートベクターマシン\n",
    "models.append((\"DTR\", DecisionTreeRegressor(max_depth = 4, random_state = RANDOM_STATE))) # 決定木\n",
    "\n",
    "# 複数のclassifierの適用\n",
    "names = [] # モデル名\n",
    "preds = [] # 予測値\n",
    "mses = [] # 平均二乗誤差\n",
    "r2_list = [] # 決定係数\n",
    "\n",
    "for name, model in models:\n",
    "    model.fit(X_train_std, y_train_std) # 学習\n",
    "    y_pred = model.predict(X_test_std).flatten() # 予測\n",
    "    mse = np.round(mean_squared_error(y_test_std, y_pred),3) # 平均二乗誤差\n",
    "    r2 = np.round(metrics.r2_score(y_test_std, y_pred),3)\n",
    "    \n",
    "    # リストに追加\n",
    "    names.append(name)\n",
    "    preds.append(y_pred)\n",
    "    mses.append(mse)\n",
    "    r2_list.append(r2)\n",
    "\n",
    "# 結果の出力\n",
    "for i in range(len(mses)):\n",
    "    print(\"[classifier : {0}]  mse : {1}\".format(names[i], mses[i]))\n",
    "\n",
    "# ウェイトの生成（決定係数の比率をウェイトとする）\n",
    "print(\"\")\n",
    "print(\"R2 : {}\".format(r2_list))\n",
    "\n",
    "#weight = np.array([0.2, 0.6, 0.2])\n",
    "weight = np.round(np.array(r2_list / sum(r2_list)).reshape(-1,1), 3)\n",
    "print(\"\")\n",
    "print(\"model : {} / weight : {}\".format(names, weight))\n",
    "\n",
    "# 加重平均\n",
    "ensemble_pred = np.dot(np.array(preds).T, weight)\n",
    "\n",
    "# 平均二乗誤差\n",
    "mse_ensemble = mean_squared_error(ensemble_pred, y_test_std)\n",
    "print(\"\")\n",
    "print(\"[ensemble] mse : {}\".format(np.round(mse_ensemble, 3)))\n",
    "print(\"[ensemble] r2_score : {}\".format(np.round(metrics.r2_score(y_test_std, ensemble_pred), 3)))"
   ]
  },
  {
   "cell_type": "markdown",
   "metadata": {},
   "source": [
    "- いずれのパターンでもスコアは改善が見られた。"
   ]
  },
  {
   "cell_type": "markdown",
   "metadata": {},
   "source": [
    "## 【問題2】バギング\n",
    "バギングを実装し、単一モデルより精度があがる例を最低1つ示すこと。\n",
    "\n",
    "バギングは入力データの選び方を多様化する方法である。\n",
    "\n",
    "学習データから重複を許した上でランダムに抜き出すことで、N種類のサブセット（ブートストラップサンプル）を作り出す。\n",
    "\n",
    "それらによってモデルをN個学習し、推定結果の平均をとる。\n",
    "\n",
    "ブレンディングと異なり、それぞれの重み付けを変えることはない。\n",
    "\n",
    "[sklearn.model_selection.train_test_split — scikit-learn 0.20.0 documentation](https://scikit-learn.org/stable/modules/generated/sklearn.model_selection.train_test_split.html)\n",
    "\n",
    "scikit-learnのtrain_test_splitを、shuffleパラメータをTrueにして使うことで、ランダムにデータを分割することができる。\n",
    "\n",
    "これによりブートストラップサンプルが手に入る。\n",
    "\n",
    "推定結果の平均をとる部分はブースティングと同様の実装になる。"
   ]
  },
  {
   "cell_type": "markdown",
   "metadata": {},
   "source": [
    "## バギング実施前"
   ]
  },
  {
   "cell_type": "code",
   "execution_count": null,
   "metadata": {},
   "outputs": [],
   "source": [
    "RANDOM_STATE = 1\n",
    "\n",
    "models = []\n",
    "models.append((\"lr\", LinearRegression())) # 線形回帰\n",
    "models.append((\"svr\", SVR())) # サポートベクターマシン\n",
    "models.append((\"dtr\", DecisionTreeRegressor(random_state = RANDOM_STATE)))# 決定木\n",
    "\n",
    "# 結果を格納するリスト\n",
    "names = [] # モデルの種類\n",
    "mses = [] # 平均二乗誤差\n",
    "\n",
    "# モデル別にアンサンブル学習を実施\n",
    "for name, model in models:\n",
    "    print(\"\")\n",
    "    names.append(name)\n",
    "    \n",
    "    model.fit(X_train_std, y_train_std) # 学習\n",
    "    y_pred = model.predict(X_test_std) # 予測\n",
    "    mse = metrics.r2_score(y_test_std, y_pred)\n",
    "    mses.append(mse)"
   ]
  },
  {
   "cell_type": "code",
   "execution_count": 12,
   "metadata": {},
   "outputs": [
    {
     "name": "stdout",
     "output_type": "stream",
     "text": [
      "name : lr  / mse : 0.665\n",
      "name : svr  / mse : 0.7\n",
      "name : dtr  / mse : 0.42\n"
     ]
    }
   ],
   "source": [
    "# バギングしない場合のMSE\n",
    "for name, mse in zip(names, mses):\n",
    "    print(\"name : {}  / mse : {}\".format(name, np.round(mse, 3)))"
   ]
  },
  {
   "cell_type": "markdown",
   "metadata": {},
   "source": [
    "- バギングにより、上記のMSE（平均二乗誤差）が低下すれば良い。"
   ]
  },
  {
   "cell_type": "markdown",
   "metadata": {},
   "source": [
    "## バギング実施後 : データセットを5分割"
   ]
  },
  {
   "cell_type": "code",
   "execution_count": null,
   "metadata": {},
   "outputs": [],
   "source": [
    "# データのサブセットを格納するリスト\n",
    "X_train_std_sub = []\n",
    "y_train_std_sub = []\n",
    "\n",
    "# パラメーター\n",
    "N = 10 # サブセットの数\n",
    "train_size = 0.8 # 分割の割合\n",
    "\n",
    "# サブセットを作成\n",
    "for i in range(N):\n",
    "    X_sub, _ ,y_sub, _ = train_test_split(X_train_std, y_train_std, train_size = train_size, shuffle = True)\n",
    "    X_train_std_sub.append(X_sub) # 学習用データ（説明変数）\n",
    "    y_train_std_sub.append(y_sub) # 学習用データ（目的変数）"
   ]
  },
  {
   "cell_type": "code",
   "execution_count": null,
   "metadata": {},
   "outputs": [],
   "source": [
    "RANDOM_STATE = 1\n",
    "\n",
    "models = []\n",
    "models.append((\"lr\", LinearRegression())) # 線形回帰\n",
    "models.append((\"svr\", SVR())) # サポートベクターマシン\n",
    "models.append((\"dtr\", DecisionTreeRegressor(random_state = RANDOM_STATE)))# 決定木\n",
    "\n",
    "\n",
    "# 結果を格納するリスト\n",
    "names = [] # モデルの種類\n",
    "ensemble_preds = [] # 予測値\n",
    "ensemble_mses = [] # 平均二乗誤差\n",
    "\n",
    "# モデル別にアンサンブル学習を実施\n",
    "for name, model in models:\n",
    "    print(\"\")\n",
    "    names.append(name)\n",
    "    sum_pred = 0 # 予測値を0で初期化\n",
    "    mse_list = []\n",
    "    \n",
    "    for i in range(N):\n",
    "        model.fit(X_train_std_sub[i], y_train_std_sub[i]) # 学習\n",
    "        y_pred = model.predict(X_test_std) # 予測\n",
    "        mse = metrics.r2_score(y_test_std, y_pred)\n",
    "        mse_list.append(mse)\n",
    "        \n",
    "        sum_pred += y_pred\n",
    "    \n",
    "    # アンサンブル学習結果（予測値の平均）\n",
    "    ensemble_pred = sum_pred / N\n",
    "    ensemble_preds.append(ensemble_pred)\n",
    "    \n",
    "    # 平均二乗誤差\n",
    "    ensemble_mse = mean_squared_error(y_test_std, ensemble_pred) \n",
    "    ensemble_mses.append(ensemble_mse)"
   ]
  },
  {
   "cell_type": "code",
   "execution_count": 118,
   "metadata": {
    "scrolled": false
   },
   "outputs": [
    {
     "name": "stdout",
     "output_type": "stream",
     "text": [
      "name : lr  / ensemble_mse : 0.335\n",
      "name : svr  / ensemble_mse : 0.308\n",
      "name : dtr  / ensemble_mse : 0.397\n"
     ]
    }
   ],
   "source": [
    "# バギング時のMSE\n",
    "for name, ensemble_mse in zip(names, ensemble_mses):\n",
    "    print(\"name : {}  / ensemble_mse : {}\".format(name, np.round(ensemble_mse, 3)))"
   ]
  },
  {
   "cell_type": "markdown",
   "metadata": {},
   "source": [
    "- 線形回帰、サポートベクターマシンはMSEが大幅に下がった一方、決定木は微増となった。"
   ]
  },
  {
   "cell_type": "markdown",
   "metadata": {},
   "source": [
    "## 【問題3】スタッキング\n",
    "スタッキングを実装し、単一モデルより精度があがる例を最低1つ示すこと。\n",
    "\n",
    "スタッキングの手順は以下の通り。\n",
    "\n",
    "最低限ステージ0とステージ1があればスタッキングは成立するため、それを実装する。\n",
    "\n",
    "まずは$K_0 = 3$, $M_0 =2$程度にする。\n",
    "\n",
    "### 学習時\n",
    "\n",
    "（ステージ $0$ ）\n",
    "\n",
    "- 学習データを$K_0$個に分割する。\n",
    "\n",
    "- 分割した内の$(K_0 −1)$個をまとめて学習用データ、残り 1個を推定用データとする組み合わせが$K_0$個作れる。\n",
    "\n",
    "- あるモデルのインスタンスを $K_0$個用意し、異なる学習用データを使い学習する。\n",
    "\n",
    "- それぞれの学習済みモデルに対して、使っていない残り$1$個の推定用データを入力し、推定値を得る。（これをブレンドデータと呼ぶ）\n",
    "\n",
    "- さらに、異なるモデルのインスタンスも $K_0$個用意し、同様のことを行う。モデルが \n",
    "$M_0$個あれば、 $M_0$個のブレンドデータが得られる。\n",
    "\n",
    "\n",
    "（ステージ $n$ ）\n",
    "\n",
    "- ステージ$ n−1$のブレンドデータを\n",
    "$M_{n−1}$次元の特徴量を持つ学習用データと考え、 $K_n$個に分割する。以下同様である。\n",
    "\n",
    "（ステージ N）＊最後のステージ\n",
    "\n",
    "- ステージ $N−1$ の$ M_{N−1}$個のブレンドデータを$M_{N−1}$次元の特徴量の入力として、1種類のモデルの学習を行う。\n",
    "\n",
    "    これが最終的な推定を行うモデルとなる。\n",
    "\n",
    "### 推定時\n",
    "\n",
    "（ステージ 0 ）\n",
    "\n",
    "- テストデータを$K_0$×$M_0$個の学習済みモデルに入力し、$K_0$×$M_0$個の推定値を得る。\n",
    "\n",
    "    これを $K_0$の軸で平均値を求め $M_0$次元の特徴量を持つデータを得る。（ブレンドテストと呼ぶ）\n",
    "\n",
    "（ステージ $n$）\n",
    "\n",
    "- ステージ $n−1$で得たブレンドテストを $K_n$×$M_n$ 個の学習済みモデルに入力し、$K_n$×$M_n$個の推定値を得る。\n",
    "\n",
    "    これを $K_n$の軸で平均値を求め $M_0$次元の特徴量を持つデータを得る。（ブレンドテストと呼ぶ）\n",
    "\n",
    "（ステージ $N$）＊最後のステージ\n",
    "\n",
    "- ステージ $N−1$で得たブレンドテストを学習済みモデルに入力し、推定値を得る。"
   ]
  },
  {
   "cell_type": "markdown",
   "metadata": {},
   "source": [
    "**以下、モデルの作成、学習、推定を行う。**"
   ]
  },
  {
   "cell_type": "markdown",
   "metadata": {},
   "source": [
    "### 学習"
   ]
  },
  {
   "cell_type": "code",
   "execution_count": 6,
   "metadata": {},
   "outputs": [],
   "source": [
    "class brend:\n",
    "    \"\"\"\n",
    "    ブレンドデータを格納するクラス\n",
    "    \n",
    "    Attributes\n",
    "    ----------\n",
    "    self.name : str\n",
    "        モデルの種類\n",
    "        \n",
    "    self.model_list : list\n",
    "        学習したモデル\n",
    "    \n",
    "    self.brend_data : instance\n",
    "        モデルのインスタンス\n",
    "    \n",
    "    \"\"\"\n",
    "    \n",
    "    def __init__(self, ):\n",
    "        self.name = None # モデルの名称\n",
    "        self.model_list = []# インスタンス\n",
    "        self.brend_data = [] # ブレンドデータ"
   ]
  },
  {
   "cell_type": "code",
   "execution_count": 7,
   "metadata": {},
   "outputs": [],
   "source": [
    "K = 3 # 分割数\n",
    "\n",
    "KERNEL = \"rbf\"\n",
    "RANDOM_STATE = 1 # 乱数生成のシード値\n",
    "MAX_DEPTH = 3 # 決定木の深さ\n",
    "\n",
    "MODEL_CHOICE = 0 # モデルの番号\n",
    "\n",
    "BASE_MODELS = [LinearRegression(), SVR(kernel = KERNEL), DecisionTreeRegressor(random_state = RANDOM_STATE)] # ステージ１で用いるモデル"
   ]
  },
  {
   "cell_type": "code",
   "execution_count": 8,
   "metadata": {},
   "outputs": [],
   "source": [
    "kf = KFold(n_splits=K, random_state=RANDOM_STATE, shuffle=True)\n",
    "\n",
    "# データを分割\n",
    "X_train_list = []\n",
    "X_remain_list = []\n",
    "y_train_list = []\n",
    "y_remain_list = []\n",
    "    \n",
    "for train_index, remain_index in kf.split(X_train_std, y_train_std):\n",
    "    X_train_list.append(X_train_std[train_index])\n",
    "    X_remain_list.append(X_train_std[remain_index])\n",
    "    y_train_list.append(y_train_std[train_index])\n",
    "    y_remain_list.append(y_train_std[remain_index])"
   ]
  },
  {
   "cell_type": "code",
   "execution_count": 9,
   "metadata": {
    "scrolled": true
   },
   "outputs": [
    {
     "data": {
      "text/plain": [
       "((1095, 2), (1095, 1))"
      ]
     },
     "execution_count": 9,
     "metadata": {},
     "output_type": "execute_result"
    }
   ],
   "source": [
    "X_train_std.shape, y_train_std.shape"
   ]
  },
  {
   "cell_type": "markdown",
   "metadata": {},
   "source": [
    "### ステージ０"
   ]
  },
  {
   "cell_type": "code",
   "execution_count": 10,
   "metadata": {
    "scrolled": true
   },
   "outputs": [],
   "source": [
    "# 用いるモデルのインスタンスを格納する\n",
    "model_list = []"
   ]
  },
  {
   "cell_type": "code",
   "execution_count": 11,
   "metadata": {},
   "outputs": [],
   "source": [
    "model_list.append((\"lr\", LinearRegression()))\n",
    "model_list.append((\"svr\", SVR()))\n",
    "model_list.append((\"dtr\", DecisionTreeRegressor(max_depth = MAX_DEPTH, random_state = RANDOM_STATE)))"
   ]
  },
  {
   "cell_type": "code",
   "execution_count": 12,
   "metadata": {
    "scrolled": true
   },
   "outputs": [
    {
     "data": {
      "text/plain": [
       "[('lr',\n",
       "  LinearRegression(copy_X=True, fit_intercept=True, n_jobs=1, normalize=False)),\n",
       " ('svr',\n",
       "  SVR(C=1.0, cache_size=200, coef0=0.0, degree=3, epsilon=0.1, gamma='auto',\n",
       "    kernel='rbf', max_iter=-1, shrinking=True, tol=0.001, verbose=False)),\n",
       " ('dtr', DecisionTreeRegressor(criterion='mse', max_depth=3, max_features=None,\n",
       "             max_leaf_nodes=None, min_impurity_decrease=0.0,\n",
       "             min_impurity_split=None, min_samples_leaf=1,\n",
       "             min_samples_split=2, min_weight_fraction_leaf=0.0,\n",
       "             presort=False, random_state=1, splitter='best'))]"
      ]
     },
     "execution_count": 12,
     "metadata": {},
     "output_type": "execute_result"
    }
   ],
   "source": [
    "model_list"
   ]
  },
  {
   "cell_type": "code",
   "execution_count": 13,
   "metadata": {},
   "outputs": [],
   "source": [
    "# ブレンドデータの格納\n",
    "brend_results = []\n",
    "brend_data = []"
   ]
  },
  {
   "cell_type": "code",
   "execution_count": null,
   "metadata": {},
   "outputs": [],
   "source": [
    "for num in range(len(model_list)):\n",
    "    name = model_list[num][0]\n",
    "    model = model_list[num][1]\n",
    "\n",
    "\n",
    "    for i in range(K):\n",
    "        \n",
    "        brending = brend()\n",
    "        brending.name = name\n",
    "        \n",
    "        # 学習\n",
    "        model.fit(X_train_list[i], y_train_list[i])\n",
    "        brending.model_list.append(model)        \n",
    "        \n",
    "        # 予測（ブレンドデータの生成）\n",
    "        brend_data = model.predict(X_remain_list[i]).flatten()\n",
    "        brending.brend_data.append(brend_data)\n",
    "        \n",
    "        # リストに格納\n",
    "        brend_results.append(brending)"
   ]
  },
  {
   "cell_type": "markdown",
   "metadata": {},
   "source": [
    "### ステージ1\n",
    "\n",
    "- ステージ０で生成したブレンドデータ、および正解値を用いてモデルを生成する。"
   ]
  },
  {
   "cell_type": "code",
   "execution_count": 16,
   "metadata": {},
   "outputs": [],
   "source": [
    "# ステージ1での学習、予測に用いるモデル\n",
    "model_for_pred = BASE_MODELS[MODEL_CHOICE]"
   ]
  },
  {
   "cell_type": "code",
   "execution_count": 17,
   "metadata": {},
   "outputs": [],
   "source": [
    "# ステージ0で生成したブレンドデータに基づき予測を実行する\n",
    "brend_for_train = []\n",
    "\n",
    "# 各ブレンドデータの算出結果について実行する\n",
    "for i in range(len(brend_results)):\n",
    "    brend_for_train.append(np.hstack(brend_results[i].brend_data))"
   ]
  },
  {
   "cell_type": "code",
   "execution_count": 18,
   "metadata": {},
   "outputs": [
    {
     "data": {
      "text/plain": [
       "(9, 365)"
      ]
     },
     "execution_count": 18,
     "metadata": {},
     "output_type": "execute_result"
    }
   ],
   "source": [
    "# ステージ１の学習用データ（特徴量）\n",
    "np.array(brend_for_train).shape"
   ]
  },
  {
   "cell_type": "code",
   "execution_count": 19,
   "metadata": {
    "scrolled": true
   },
   "outputs": [
    {
     "data": {
      "text/plain": [
       "(3, 365, 1)"
      ]
     },
     "execution_count": 19,
     "metadata": {},
     "output_type": "execute_result"
    }
   ],
   "source": [
    "# ステージ１の学習用データ（正解ラベル）\n",
    "y_train_for_stage1 = np.array(y_remain_list)\n",
    "y_train_for_stage1.shape"
   ]
  },
  {
   "cell_type": "code",
   "execution_count": 20,
   "metadata": {},
   "outputs": [
    {
     "data": {
      "text/plain": [
       "(3, 365)"
      ]
     },
     "execution_count": 20,
     "metadata": {},
     "output_type": "execute_result"
    }
   ],
   "source": [
    "y_train_for_stage1 = y_train_for_stage1.reshape(y_train_for_stage1.shape[0], y_train_for_stage1.shape[1])\n",
    "y_train_for_stage1.shape"
   ]
  },
  {
   "cell_type": "code",
   "execution_count": 21,
   "metadata": {},
   "outputs": [
    {
     "data": {
      "text/plain": [
       "(3, 3, 365)"
      ]
     },
     "execution_count": 21,
     "metadata": {},
     "output_type": "execute_result"
    }
   ],
   "source": [
    "tmp = np.array([y_train_for_stage1 for i in range(K)])\n",
    "tmp.shape"
   ]
  },
  {
   "cell_type": "code",
   "execution_count": 22,
   "metadata": {},
   "outputs": [
    {
     "data": {
      "text/plain": [
       "(9, 365)"
      ]
     },
     "execution_count": 22,
     "metadata": {},
     "output_type": "execute_result"
    }
   ],
   "source": [
    "y_train_for_stage1 = tmp.reshape(tmp.shape[0]*tmp.shape[1], tmp.shape[2])\n",
    "y_train_for_stage1.shape"
   ]
  },
  {
   "cell_type": "code",
   "execution_count": 23,
   "metadata": {},
   "outputs": [],
   "source": [
    "# 学習用のブレンドデータの生成\n",
    "brend_data_for_train = np.array(brend_for_train).flatten()[:, np.newaxis]"
   ]
  },
  {
   "cell_type": "code",
   "execution_count": 24,
   "metadata": {},
   "outputs": [
    {
     "data": {
      "text/plain": [
       "(3285, 1)"
      ]
     },
     "execution_count": 24,
     "metadata": {},
     "output_type": "execute_result"
    }
   ],
   "source": [
    "brend_data_for_train.shape"
   ]
  },
  {
   "cell_type": "code",
   "execution_count": 25,
   "metadata": {
    "scrolled": false
   },
   "outputs": [
    {
     "data": {
      "text/plain": [
       "LinearRegression(copy_X=True, fit_intercept=True, n_jobs=1, normalize=False)"
      ]
     },
     "execution_count": 25,
     "metadata": {},
     "output_type": "execute_result"
    }
   ],
   "source": [
    "# フェーズ１で用いるモデルを生成\n",
    "#model_for_pred.fit(brend_data_for_train, y_train_std)\n",
    "model_for_pred.fit(brend_data_for_train, y_train_for_stage1.flatten()[:, np.newaxis])"
   ]
  },
  {
   "cell_type": "markdown",
   "metadata": {},
   "source": [
    "## 予測\n",
    "\n",
    "### ステージ０"
   ]
  },
  {
   "cell_type": "code",
   "execution_count": 26,
   "metadata": {},
   "outputs": [
    {
     "name": "stdout",
     "output_type": "stream",
     "text": [
      "X_test_std.shape : (365, 2)\n",
      "y_test_std.shape : (365, 1)\n"
     ]
    }
   ],
   "source": [
    "print(\"X_test_std.shape : {}\".format(X_test_std.shape))\n",
    "print(\"y_test_std.shape : {}\".format(y_test_std.shape))"
   ]
  },
  {
   "cell_type": "code",
   "execution_count": 27,
   "metadata": {
    "scrolled": false
   },
   "outputs": [],
   "source": [
    "# ステージ０の学習で生成したモデルを用いてブレンドデータを生成する\n",
    "#brend_test = []\n",
    "pred_result = []\n",
    "\n",
    "for brend_result in brend_results:\n",
    "    for i in range(len(brend_result.model_list)):\n",
    "        pred_result.append(brend_result.model_list[i].predict(X_test_std).flatten())\n",
    "        \n",
    "# 平均値\n",
    "brend_test = np.mean(pred_result, axis = 0)"
   ]
  },
  {
   "cell_type": "code",
   "execution_count": 28,
   "metadata": {},
   "outputs": [
    {
     "data": {
      "text/plain": [
       "(365,)"
      ]
     },
     "execution_count": 28,
     "metadata": {},
     "output_type": "execute_result"
    }
   ],
   "source": [
    "brend_test.shape"
   ]
  },
  {
   "cell_type": "markdown",
   "metadata": {},
   "source": [
    "### ステージ１の予測"
   ]
  },
  {
   "cell_type": "code",
   "execution_count": 29,
   "metadata": {},
   "outputs": [
    {
     "data": {
      "text/plain": [
       "(365, 1)"
      ]
     },
     "execution_count": 29,
     "metadata": {},
     "output_type": "execute_result"
    }
   ],
   "source": [
    "# 予測用のブレンドデータを生成\n",
    "brend_test_final = brend_test[:, np.newaxis]\n",
    "brend_test_final.shape"
   ]
  },
  {
   "cell_type": "code",
   "execution_count": 30,
   "metadata": {},
   "outputs": [],
   "source": [
    "# 予測\n",
    "y_pred_stack = model_for_pred.predict(brend_test_final).flatten()"
   ]
  },
  {
   "cell_type": "markdown",
   "metadata": {},
   "source": [
    "### 予測結果の評価"
   ]
  },
  {
   "cell_type": "code",
   "execution_count": 31,
   "metadata": {},
   "outputs": [
    {
     "data": {
      "text/plain": [
       "0.6810858825124876"
      ]
     },
     "execution_count": 31,
     "metadata": {},
     "output_type": "execute_result"
    }
   ],
   "source": [
    "# 決定係数\n",
    "r2_stack = metrics.r2_score(y_test_std, y_pred_stack)\n",
    "r2_stack"
   ]
  },
  {
   "cell_type": "code",
   "execution_count": 32,
   "metadata": {},
   "outputs": [
    {
     "data": {
      "text/plain": [
       "Text(0,0.5,'pred')"
      ]
     },
     "execution_count": 32,
     "metadata": {},
     "output_type": "execute_result"
    },
    {
     "data": {
      "image/png": "[encoded data removed]",
      "text/plain": [
       "<Figure size 432x288 with 1 Axes>"
      ]
     },
     "metadata": {
      "needs_background": "light"
     },
     "output_type": "display_data"
    }
   ],
   "source": [
    "# 散布図\n",
    "plt.scatter(y_test_std, y_pred_stack)\n",
    "plt.xlabel(\"true\")\n",
    "plt.ylabel(\"pred\")"
   ]
  },
  {
   "cell_type": "code",
   "execution_count": 33,
   "metadata": {},
   "outputs": [
    {
     "data": {
      "text/plain": [
       "0.3189141174875124"
      ]
     },
     "execution_count": 33,
     "metadata": {},
     "output_type": "execute_result"
    }
   ],
   "source": [
    "# 平均二乗誤差\n",
    "mse_stack = mean_squared_error(y_test_std, y_pred_stack)\n",
    "mse_stack"
   ]
  },
  {
   "cell_type": "code",
   "execution_count": 34,
   "metadata": {},
   "outputs": [],
   "source": [
    "# 誤差\n",
    "error = y_test_std.flatten() - y_pred_stack"
   ]
  },
  {
   "cell_type": "code",
   "execution_count": 35,
   "metadata": {
    "scrolled": true
   },
   "outputs": [
    {
     "data": {
      "text/plain": [
       "<matplotlib.collections.PathCollection at 0x1a313c9eb8>"
      ]
     },
     "execution_count": 35,
     "metadata": {},
     "output_type": "execute_result"
    },
    {
     "data": {
      "image/png": "[encoded data removed]",
      "text/plain": [
       "<Figure size 432x288 with 1 Axes>"
      ]
     },
     "metadata": {
      "needs_background": "light"
     },
     "output_type": "display_data"
    }
   ],
   "source": [
    "# 残差プロット\n",
    "plt.scatter(y_pred_stack, error)"
   ]
  },
  {
   "cell_type": "code",
   "execution_count": 36,
   "metadata": {
    "scrolled": false
   },
   "outputs": [
    {
     "name": "stdout",
     "output_type": "stream",
     "text": [
      "[classifier : LR]  mse : 0.378\n",
      "[classifier : SVR]  mse : 0.295\n",
      "[classifier : DTR]  mse : 0.59\n",
      "\n",
      "[classifier : LR]  r2_score : 0.62\n",
      "[classifier : SVR]  r2_score : 0.71\n",
      "[classifier : DTR]  r2_score : 0.41\n"
     ]
    },
    {
     "name": "stderr",
     "output_type": "stream",
     "text": [
      "/Users/makintosh/.pyenv/versions/anaconda3-5.3.1/lib/python3.7/site-packages/sklearn/utils/validation.py:578: DataConversionWarning: A column-vector y was passed when a 1d array was expected. Please change the shape of y to (n_samples, ), for example using ravel().\n",
      "  y = column_or_1d(y, warn=True)\n"
     ]
    }
   ],
   "source": [
    "RANDOM_STATE = 1\n",
    "\n",
    "# 機械学習モデルをリストに格納\n",
    "models = []\n",
    "models.append((\"LR\", LinearRegression())) # ロジスティック回帰\n",
    "models.append((\"SVR\", SVR())) # サポートベクターマシン\n",
    "models.append((\"DTR\", DecisionTreeRegressor(random_state = RANDOM_STATE))) # 決定木\n",
    "\n",
    "# 複数のclassifierの適用\n",
    "names = [] # モデル名\n",
    "preds = [] # 予測値\n",
    "mses = [] # 平均二乗誤差\n",
    "r2_list = [] # 決定係数\n",
    "\n",
    "for name, model in models:\n",
    "    model.fit(X_train_std, y_train_std) # 学習\n",
    "    y_pred = model.predict(X_test_std).flatten() # 予測\n",
    "    mse = np.round(mean_squared_error(y_test_std, y_pred),3) # 平均二乗誤差\n",
    "    r2 = np.round(metrics.r2_score(y_test_std, y_pred),2)\n",
    "    \n",
    "    # リストに追加\n",
    "    names.append(name)\n",
    "    preds.append(y_pred)\n",
    "    mses.append(mse)\n",
    "    r2_list.append(r2)\n",
    "\n",
    "# 結果の出力\n",
    "for i in range(len(mses)):\n",
    "    print(\"[classifier : {0}]  mse : {1}\".format(names[i], mses[i]))\n",
    "\n",
    "print(\"\")\n",
    "    \n",
    "for i in range(len(mses)):\n",
    "    print(\"[classifier : {0}]  r2_score : {1}\".format(names[i], r2_list[i]))"
   ]
  },
  {
   "cell_type": "code",
   "execution_count": 37,
   "metadata": {},
   "outputs": [
    {
     "data": {
      "text/plain": [
       "(0.3189141174875124, 0.6810858825124876)"
      ]
     },
     "execution_count": 37,
     "metadata": {},
     "output_type": "execute_result"
    }
   ],
   "source": [
    "mse_stack, r2_stack"
   ]
  },
  {
   "cell_type": "markdown",
   "metadata": {},
   "source": [
    "今回、stage1で用いた線形回帰モデルに関して考察する。\n",
    "\n",
    "- 平均二乗誤差（mse）：単一モデルが0.378に対して、スタッキング時は0.318と改善した。\n",
    "- 決定係数（r2_score）：単一モデルが0.62に対して、スタッキング時は0.68と改善した。"
   ]
  },
  {
   "cell_type": "markdown",
   "metadata": {},
   "source": [
    "### Take away"
   ]
  },
  {
   "cell_type": "markdown",
   "metadata": {},
   "source": [
    "ブレンディング、バギング、スタッキングのスクラッチ実装を通じて、アンサンブル学習に対する理解が深まった。\n",
    "\n",
    "- 今回は３種類のモデル（線形回帰、サポートベクターマシン、決定木）を用いたが、大前提として\"万能なモデルは存在せず\"、各モデルの特徴（得意・不得意）を認識する必要がある。\n",
    "\n",
    "\n",
    "- モデルの精度は、学習に用いるデータセットに依存することにも留意が必要。（あるデータセットに対して当てはまりの良いモデルもあれば、そうでないモデルもある）\n",
    "\n",
    "\n",
    "- データセットが与えられた際には、データに対して適切な前処理を施した上で、複数のモデルによる学習、推定を行うことが肝要である。\n",
    "\n",
    "\n",
    "- 尚、今回扱わなかったランダムフォレストは、決定木は「層を深くするほど過剰適合を起こしやすい」という欠点をアンサンブル学習により克服する手法である。\n",
    "    - 具体的には、複数パターンでランダムサンプリングしたサンプルに対して決定木モデルを学習し、多数決により分離境界、予測値を決めるもの。"
   ]
  }
 ],
 "metadata": {
  "kernelspec": {
   "display_name": "Python 3",
   "language": "python",
   "name": "python3"
  },
  "language_info": {
   "codemirror_mode": {
    "name": "ipython",
    "version": 3
   },
   "file_extension": ".py",
   "mimetype": "text/x-python",
   "name": "python",
   "nbconvert_exporter": "python",
   "pygments_lexer": "ipython3",
   "version": "3.7.0"
  }
 },
 "nbformat": 4,
 "nbformat_minor": 2
}
