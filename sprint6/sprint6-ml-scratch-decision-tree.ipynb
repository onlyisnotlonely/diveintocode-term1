{
 "cells": [
  {
   "cell_type": "markdown",
   "metadata": {},
   "source": [
    "# Sprint6課題 機械学習スクラッチ決定木"
   ]
  },
  {
   "cell_type": "markdown",
   "metadata": {},
   "source": [
    "## この課題の目的\n",
    "- スクラッチを通して決定木を理解する\n",
    "- 複雑なアルゴリズムの実装に慣れる"
   ]
  },
  {
   "cell_type": "markdown",
   "metadata": {},
   "source": [
    "## スクラッチによる実装\n",
    "\n",
    "- NumPyなど最低限のライブラリのみを使いアルゴリズムを実装していきます。\n",
    "\n",
    "- 決定木は分類と回帰双方に使用できますが、分類のみを扱います。\n",
    "\n",
    "- 必須課題としては空間の分割を1回だけ行う、深さ1の決定木を作成します。それよりも深い決定木の作成はアドバンス課題とします。"
   ]
  },
  {
   "cell_type": "markdown",
   "metadata": {},
   "source": [
    "###  クラスのインポート\n",
    "\n",
    "- .pyファイルを修正したら、一度kernelをshutdownした後に呼び出すこと。"
   ]
  },
  {
   "cell_type": "code",
   "execution_count": 1,
   "metadata": {},
   "outputs": [],
   "source": [
    "import sys\n",
    "\n",
    "sys.path.append(\"/Users/makintosh/diveintocode-term1/ml-scratch\")\n",
    "\n",
    "from utils.ScratchDecisionTree import ScratchDecisionTreeClassifier\n",
    "from utils.decision_region import decision_region"
   ]
  },
  {
   "cell_type": "code",
   "execution_count": 2,
   "metadata": {},
   "outputs": [],
   "source": [
    "import numpy as np\n",
    "import pandas as pd\n",
    "\n",
    "import matplotlib.pyplot as plt\n",
    "\n",
    "from sklearn.model_selection import train_test_split\n",
    "from sklearn.metrics import accuracy_score, precision_score, recall_score, f1_score, roc_auc_score"
   ]
  },
  {
   "cell_type": "code",
   "execution_count": null,
   "metadata": {},
   "outputs": [],
   "source": []
  },
  {
   "cell_type": "markdown",
   "metadata": {},
   "source": [
    "## 【問題1】ジニ不純度を求める関数\n",
    "\n",
    "まずは空間を分割するための指標値、ジニ不純度を計算する関数を作成してください。ノード$t$に対するジニ不純度$I(t)$は以下の数式で求まります。\n",
    "\n",
    "$I(t) = 1-\\sum_{i=1}^{K}P^2(C_i|t) = 1-\\sum_{i=1}^{K}(\\frac{N_{t,i}}{N_{t,all}})^{2}$\n",
    "\n",
    "\n",
    "$t$ : ノードのインデックス\n",
    "\n",
    "$i$ : クラスのインデックス\n",
    "\n",
    "$K$ : クラスの数\n",
    "\n",
    "$C_i$ : i番目のクラス\n",
    "\n",
    "$P(C_i|t)$ :　t番目のノードにおけるC_iの割合\n",
    "\n",
    "$N_{t,i}$ : t番目のノードのi番目のクラスに属するサンプル数\n",
    "\n",
    "$N_{t,all}$ : t番目のノードのサンプルの総数"
   ]
  },
  {
   "cell_type": "code",
   "execution_count": 3,
   "metadata": {},
   "outputs": [],
   "source": [
    "def impurity(self, y):\n",
    "    \"\"\"\n",
    "    ジニ不純度を求める\n",
    "    \n",
    "    Parameters\n",
    "    ----------\n",
    "    y : 次の形のndarray, shape(m_samples)\n",
    "        正解値\n",
    "\n",
    "    Returns\n",
    "    ----------\n",
    "    impurity : float\n",
    "        ジニ不純度\n",
    "\n",
    "    \"\"\"\n",
    "    # 目的変数の値、及び要素数を取得する\n",
    "    class_value, class_count = np.unique(y, return_counts = True)\n",
    "\n",
    "    # ジニ不純度を算出する\n",
    "    if len(y) > 0:\n",
    "        impurity = 1 - np.sum(np.square(class_count / len(y)))\n",
    "    elif len(y) == 0:\n",
    "        impurity = 0\n",
    "        \n",
    "    return impurity"
   ]
  },
  {
   "cell_type": "markdown",
   "metadata": {},
   "source": [
    "## 【問題2】情報利得を求める関数\n",
    "\n",
    "次に、情報利得を計算する関数を作成してください。先ほど作成したジニ不純度 \n",
    "$I(t)$を計算する関数を呼び出して使います。情報利得$IG$は以下の数式で求まります。\n",
    "\n",
    "$IG(p) = I(p)-\\frac{N_{left,all}}{N_{p,all}}I(left)-\\frac{N_{right,all}}{N_{p,all}}I(right)$\n",
    "\n",
    "\n",
    "$p$ : 親ノードを示すインデックス\n",
    "\n",
    "$left$ : 左側のノードを示すインデックス\n",
    "\n",
    "$right$ : 右側のノードを示すインデックス"
   ]
  },
  {
   "cell_type": "code",
   "execution_count": 4,
   "metadata": {},
   "outputs": [],
   "source": [
    "def information_gain(self, y, left_index, right_index):\n",
    "        \"\"\"\n",
    "        情報利得を求める\n",
    "\n",
    "        Parameters\n",
    "        ----------\n",
    "        y : 次の形のndarray, shape(m_samples,)\n",
    "            学習用データの正解値\n",
    "\n",
    "        left_index : list\n",
    "            特徴量が閾値以上のサンプルのインデックス\n",
    "\n",
    "        rifht_index : list\n",
    "            特徴量が閾値未満のサンプルのインデックス\n",
    "\n",
    "        Returns\n",
    "        ----------\n",
    "        info_gain : float\n",
    "            情報利得\n",
    "\n",
    "        \"\"\"\n",
    "\n",
    "        # ジニ不純度\n",
    "        self.impurity = self.impurity(y) # 親ノードのジニ不純度\n",
    "        impurity_left = self.impurity(y_train[left_index]) # 閾値以上で分割されたクラス\n",
    "        impurity_right = self.impurity(y_train[right_index]) # 閾値未満で分割されたクラス\n",
    "\n",
    "        # 要素数\n",
    "        count_parent = len(y_train) # 親ノードの要素数\n",
    "        count_left = len(left_index[0]) # 閾値以上で分割されたクラスの要素数\n",
    "        count_right = len(right_index[0]) # 閾値未満で分割されたクラスの要素数\n",
    "\n",
    "        # 情報利得を求める\n",
    "        info_gain = self.impurity - (count_left / count_parent) * impurity_left - (count_right / count_parent) * impurity_right\n",
    "\n",
    "        return info_gain"
   ]
  },
  {
   "cell_type": "markdown",
   "metadata": {},
   "source": [
    "### データセットの準備\n",
    "\n",
    "- 以降、2値分類にはirisのデータセットを用いる。"
   ]
  },
  {
   "cell_type": "code",
   "execution_count": 5,
   "metadata": {},
   "outputs": [],
   "source": [
    "from sklearn.datasets import load_iris"
   ]
  },
  {
   "cell_type": "code",
   "execution_count": 6,
   "metadata": {},
   "outputs": [],
   "source": [
    "# データ作成\n",
    "iris = load_iris()\n",
    "\n",
    "df = pd.DataFrame(iris.data, columns = iris.feature_names)\n",
    "df[\"target\"] = iris.target\n",
    "\n",
    "data = df[df[\"target\"] != 2]"
   ]
  },
  {
   "cell_type": "code",
   "execution_count": 7,
   "metadata": {},
   "outputs": [],
   "source": [
    "# 2値分類を行うためのデータセット（X:説明変数、y:目的変数）\n",
    "X= data.drop([\"petal length (cm)\",\"petal width (cm)\", \"target\"], axis = 1).values\n",
    "y = data[\"target\"].values"
   ]
  },
  {
   "cell_type": "code",
   "execution_count": 8,
   "metadata": {},
   "outputs": [],
   "source": [
    "# validation\n",
    "X_train, X_test, y_train, y_test = train_test_split(X, y, random_state = 10)"
   ]
  },
  {
   "cell_type": "markdown",
   "metadata": {},
   "source": [
    "## 【問題3】深さ1の決定木分類器クラスの作成\n",
    "\n",
    "深さが1の決定機分類器のクラスを作成し、Sprint2で作成した分類のパイプラインに組み込んでください。\n",
    "\n",
    "クラスの基本構造はSprint3の線形回帰を参考にし、名前はScratchDecesionTreeClassifierとしてください。\n",
    "\n",
    "メソッドやパラメータなどはscikit-learnを参考にしてください。\n",
    "\n",
    "検証段階ではJupyter Notebook上で書いていき、最終的にはpyファイルにモジュールとしてまとめてください。\n",
    "\n",
    "深さ1とは空間の分割を1回だけ行うことを指します。\n",
    "\n",
    "[決定木のアルゴリズム]\n",
    "\n",
    "ある特徴量の軸に対して、全てのパターンのしきい値を考え、それぞれの情報利得を計算していきます。各点の値をしきい値にする方法が一般的です。（ただし、実際にはしきい値の数は点の数よりひとつ少なくて良いことになります）分割の全候補の中で最も情報利得が大きくなるものをそのノードの分割方法として採用します。\n",
    "\n",
    "ジニ不純度が0になるノード、または指定された深さのノードは葉と呼ばれます。葉にはそれぞれ推定時にどのクラスに分類するかを記録しておきます。ジニ不純度が0でない場合は、多数決により分類するクラスを決定します。"
   ]
  },
  {
   "cell_type": "code",
   "execution_count": 9,
   "metadata": {},
   "outputs": [],
   "source": [
    "# インスタンス生成\n",
    "clf1 = ScratchDecisionTreeClassifier(max_depth = 1)"
   ]
  },
  {
   "cell_type": "code",
   "execution_count": 10,
   "metadata": {},
   "outputs": [],
   "source": [
    "# 学習\n",
    "clf1.fit(X_train, y_train)"
   ]
  },
  {
   "cell_type": "code",
   "execution_count": 11,
   "metadata": {},
   "outputs": [],
   "source": [
    "# 予測\n",
    "y_pred1 = clf1.predict(X_test)"
   ]
  },
  {
   "cell_type": "code",
   "execution_count": 12,
   "metadata": {
    "scrolled": true
   },
   "outputs": [
    {
     "data": {
      "image/png": "[encoded data removed]",
      "text/plain": [
       "<Figure size 432x288 with 1 Axes>"
      ]
     },
     "metadata": {
      "needs_background": "light"
     },
     "output_type": "display_data"
    }
   ],
   "source": [
    "# 1階層の決定木による分類結果を可視化\n",
    "decision_region(X_train, y_train, clf1, X_test=X_test, y_pred=y_pred1)"
   ]
  },
  {
   "cell_type": "markdown",
   "metadata": {},
   "source": [
    "- 1階層では、分類しきれない。\n",
    "\n",
    "- 決定木の境界線は、縦・横に方向が限定される。（斜めに境界線を引くことができるならば、１回で分類できそうだが）"
   ]
  },
  {
   "cell_type": "markdown",
   "metadata": {},
   "source": [
    "## 【問題4】（アドバンス課題）深さ2の決定木分類器クラスの作成\n",
    "\n",
    "問題3で作成したクラスを発展させ、深さが2の決定木分類器のクラスを作成してください。\n",
    "\n",
    "深さ2とは空間の分割を2回行うことを指します。"
   ]
  },
  {
   "cell_type": "code",
   "execution_count": 13,
   "metadata": {},
   "outputs": [],
   "source": [
    "## インスタンス生成\n",
    "clf２ = ScratchDecisionTreeClassifier(max_depth = 2)"
   ]
  },
  {
   "cell_type": "code",
   "execution_count": 14,
   "metadata": {},
   "outputs": [],
   "source": [
    "# 学習\n",
    "clf2.fit(X_train, y_train)"
   ]
  },
  {
   "cell_type": "code",
   "execution_count": 15,
   "metadata": {},
   "outputs": [
    {
     "data": {
      "text/html": [
       "<div>\n",
       "<style scoped>\n",
       "    .dataframe tbody tr th:only-of-type {\n",
       "        vertical-align: middle;\n",
       "    }\n",
       "\n",
       "    .dataframe tbody tr th {\n",
       "        vertical-align: top;\n",
       "    }\n",
       "\n",
       "    .dataframe thead th {\n",
       "        text-align: right;\n",
       "    }\n",
       "</style>\n",
       "<table border=\"1\" class=\"dataframe\">\n",
       "  <thead>\n",
       "    <tr style=\"text-align: right;\">\n",
       "      <th></th>\n",
       "      <th>y_pred</th>\n",
       "      <th>y_true</th>\n",
       "    </tr>\n",
       "  </thead>\n",
       "  <tbody>\n",
       "    <tr>\n",
       "      <th>0</th>\n",
       "      <td>0</td>\n",
       "      <td>0</td>\n",
       "    </tr>\n",
       "    <tr>\n",
       "      <th>1</th>\n",
       "      <td>0</td>\n",
       "      <td>0</td>\n",
       "    </tr>\n",
       "    <tr>\n",
       "      <th>2</th>\n",
       "      <td>0</td>\n",
       "      <td>0</td>\n",
       "    </tr>\n",
       "    <tr>\n",
       "      <th>3</th>\n",
       "      <td>0</td>\n",
       "      <td>0</td>\n",
       "    </tr>\n",
       "    <tr>\n",
       "      <th>4</th>\n",
       "      <td>1</td>\n",
       "      <td>1</td>\n",
       "    </tr>\n",
       "    <tr>\n",
       "      <th>5</th>\n",
       "      <td>0</td>\n",
       "      <td>0</td>\n",
       "    </tr>\n",
       "    <tr>\n",
       "      <th>6</th>\n",
       "      <td>1</td>\n",
       "      <td>1</td>\n",
       "    </tr>\n",
       "    <tr>\n",
       "      <th>7</th>\n",
       "      <td>1</td>\n",
       "      <td>0</td>\n",
       "    </tr>\n",
       "    <tr>\n",
       "      <th>8</th>\n",
       "      <td>0</td>\n",
       "      <td>0</td>\n",
       "    </tr>\n",
       "    <tr>\n",
       "      <th>9</th>\n",
       "      <td>1</td>\n",
       "      <td>1</td>\n",
       "    </tr>\n",
       "    <tr>\n",
       "      <th>10</th>\n",
       "      <td>0</td>\n",
       "      <td>0</td>\n",
       "    </tr>\n",
       "    <tr>\n",
       "      <th>11</th>\n",
       "      <td>0</td>\n",
       "      <td>0</td>\n",
       "    </tr>\n",
       "    <tr>\n",
       "      <th>12</th>\n",
       "      <td>1</td>\n",
       "      <td>1</td>\n",
       "    </tr>\n",
       "    <tr>\n",
       "      <th>13</th>\n",
       "      <td>1</td>\n",
       "      <td>1</td>\n",
       "    </tr>\n",
       "    <tr>\n",
       "      <th>14</th>\n",
       "      <td>1</td>\n",
       "      <td>1</td>\n",
       "    </tr>\n",
       "    <tr>\n",
       "      <th>15</th>\n",
       "      <td>1</td>\n",
       "      <td>1</td>\n",
       "    </tr>\n",
       "    <tr>\n",
       "      <th>16</th>\n",
       "      <td>1</td>\n",
       "      <td>1</td>\n",
       "    </tr>\n",
       "    <tr>\n",
       "      <th>17</th>\n",
       "      <td>0</td>\n",
       "      <td>0</td>\n",
       "    </tr>\n",
       "    <tr>\n",
       "      <th>18</th>\n",
       "      <td>1</td>\n",
       "      <td>1</td>\n",
       "    </tr>\n",
       "    <tr>\n",
       "      <th>19</th>\n",
       "      <td>0</td>\n",
       "      <td>0</td>\n",
       "    </tr>\n",
       "    <tr>\n",
       "      <th>20</th>\n",
       "      <td>1</td>\n",
       "      <td>1</td>\n",
       "    </tr>\n",
       "    <tr>\n",
       "      <th>21</th>\n",
       "      <td>1</td>\n",
       "      <td>1</td>\n",
       "    </tr>\n",
       "    <tr>\n",
       "      <th>22</th>\n",
       "      <td>1</td>\n",
       "      <td>1</td>\n",
       "    </tr>\n",
       "    <tr>\n",
       "      <th>23</th>\n",
       "      <td>0</td>\n",
       "      <td>0</td>\n",
       "    </tr>\n",
       "    <tr>\n",
       "      <th>24</th>\n",
       "      <td>1</td>\n",
       "      <td>1</td>\n",
       "    </tr>\n",
       "  </tbody>\n",
       "</table>\n",
       "</div>"
      ],
      "text/plain": [
       "    y_pred  y_true\n",
       "0        0       0\n",
       "1        0       0\n",
       "2        0       0\n",
       "3        0       0\n",
       "4        1       1\n",
       "5        0       0\n",
       "6        1       1\n",
       "7        1       0\n",
       "8        0       0\n",
       "9        1       1\n",
       "10       0       0\n",
       "11       0       0\n",
       "12       1       1\n",
       "13       1       1\n",
       "14       1       1\n",
       "15       1       1\n",
       "16       1       1\n",
       "17       0       0\n",
       "18       1       1\n",
       "19       0       0\n",
       "20       1       1\n",
       "21       1       1\n",
       "22       1       1\n",
       "23       0       0\n",
       "24       1       1"
      ]
     },
     "execution_count": 15,
     "metadata": {},
     "output_type": "execute_result"
    }
   ],
   "source": [
    "# 予測\n",
    "y_pred2 = clf2.predict(X_test)\n",
    "\n",
    "df_pred2 = pd.DataFrame(y_pred2, columns = [\"y_pred\"])\n",
    "df_pred2[\"y_true\"] = y_test\n",
    "df_pred2"
   ]
  },
  {
   "cell_type": "code",
   "execution_count": 16,
   "metadata": {},
   "outputs": [
    {
     "data": {
      "image/png": "[encoded data removed]",
      "text/plain": [
       "<Figure size 432x288 with 1 Axes>"
      ]
     },
     "metadata": {
      "needs_background": "light"
     },
     "output_type": "display_data"
    }
   ],
   "source": [
    "# 1階層の決定木による分類結果を可視化\n",
    "decision_region(X_train, y_train, clf2, X_test=X_test, y_pred=y_pred2)"
   ]
  },
  {
   "cell_type": "markdown",
   "metadata": {},
   "source": [
    "- 決定木の深さは２階層でも、概ね正確に分類できる。"
   ]
  },
  {
   "cell_type": "markdown",
   "metadata": {},
   "source": [
    "## 【問題5】（アドバンス課題）任意の深さに対応できる決定木分類器クラスの作成\n",
    "\n",
    "問題3,4で作成したクラスを発展させ、任意の深さに対応できる決定木分類器のクラスを作成してください。深さを特定の値で指定せず、全ての葉がジニ不純度0となるまで続けられるようにしてください。"
   ]
  },
  {
   "cell_type": "code",
   "execution_count": 17,
   "metadata": {},
   "outputs": [],
   "source": [
    "# max_depthを設定しない\n",
    "clf = ScratchDecisionTreeClassifier()"
   ]
  },
  {
   "cell_type": "code",
   "execution_count": 18,
   "metadata": {},
   "outputs": [],
   "source": [
    "# 学習\n",
    "clf.fit(X_train, y_train)"
   ]
  },
  {
   "cell_type": "code",
   "execution_count": 19,
   "metadata": {},
   "outputs": [
    {
     "data": {
      "text/html": [
       "<div>\n",
       "<style scoped>\n",
       "    .dataframe tbody tr th:only-of-type {\n",
       "        vertical-align: middle;\n",
       "    }\n",
       "\n",
       "    .dataframe tbody tr th {\n",
       "        vertical-align: top;\n",
       "    }\n",
       "\n",
       "    .dataframe thead th {\n",
       "        text-align: right;\n",
       "    }\n",
       "</style>\n",
       "<table border=\"1\" class=\"dataframe\">\n",
       "  <thead>\n",
       "    <tr style=\"text-align: right;\">\n",
       "      <th></th>\n",
       "      <th>y_pred</th>\n",
       "      <th>y_true</th>\n",
       "    </tr>\n",
       "  </thead>\n",
       "  <tbody>\n",
       "    <tr>\n",
       "      <th>0</th>\n",
       "      <td>0</td>\n",
       "      <td>0</td>\n",
       "    </tr>\n",
       "    <tr>\n",
       "      <th>1</th>\n",
       "      <td>0</td>\n",
       "      <td>0</td>\n",
       "    </tr>\n",
       "    <tr>\n",
       "      <th>2</th>\n",
       "      <td>0</td>\n",
       "      <td>0</td>\n",
       "    </tr>\n",
       "    <tr>\n",
       "      <th>3</th>\n",
       "      <td>0</td>\n",
       "      <td>0</td>\n",
       "    </tr>\n",
       "    <tr>\n",
       "      <th>4</th>\n",
       "      <td>1</td>\n",
       "      <td>1</td>\n",
       "    </tr>\n",
       "    <tr>\n",
       "      <th>5</th>\n",
       "      <td>0</td>\n",
       "      <td>0</td>\n",
       "    </tr>\n",
       "    <tr>\n",
       "      <th>6</th>\n",
       "      <td>1</td>\n",
       "      <td>1</td>\n",
       "    </tr>\n",
       "    <tr>\n",
       "      <th>7</th>\n",
       "      <td>1</td>\n",
       "      <td>0</td>\n",
       "    </tr>\n",
       "    <tr>\n",
       "      <th>8</th>\n",
       "      <td>0</td>\n",
       "      <td>0</td>\n",
       "    </tr>\n",
       "    <tr>\n",
       "      <th>9</th>\n",
       "      <td>1</td>\n",
       "      <td>1</td>\n",
       "    </tr>\n",
       "    <tr>\n",
       "      <th>10</th>\n",
       "      <td>0</td>\n",
       "      <td>0</td>\n",
       "    </tr>\n",
       "    <tr>\n",
       "      <th>11</th>\n",
       "      <td>0</td>\n",
       "      <td>0</td>\n",
       "    </tr>\n",
       "    <tr>\n",
       "      <th>12</th>\n",
       "      <td>1</td>\n",
       "      <td>1</td>\n",
       "    </tr>\n",
       "    <tr>\n",
       "      <th>13</th>\n",
       "      <td>1</td>\n",
       "      <td>1</td>\n",
       "    </tr>\n",
       "    <tr>\n",
       "      <th>14</th>\n",
       "      <td>1</td>\n",
       "      <td>1</td>\n",
       "    </tr>\n",
       "    <tr>\n",
       "      <th>15</th>\n",
       "      <td>1</td>\n",
       "      <td>1</td>\n",
       "    </tr>\n",
       "    <tr>\n",
       "      <th>16</th>\n",
       "      <td>1</td>\n",
       "      <td>1</td>\n",
       "    </tr>\n",
       "    <tr>\n",
       "      <th>17</th>\n",
       "      <td>0</td>\n",
       "      <td>0</td>\n",
       "    </tr>\n",
       "    <tr>\n",
       "      <th>18</th>\n",
       "      <td>1</td>\n",
       "      <td>1</td>\n",
       "    </tr>\n",
       "    <tr>\n",
       "      <th>19</th>\n",
       "      <td>0</td>\n",
       "      <td>0</td>\n",
       "    </tr>\n",
       "    <tr>\n",
       "      <th>20</th>\n",
       "      <td>1</td>\n",
       "      <td>1</td>\n",
       "    </tr>\n",
       "    <tr>\n",
       "      <th>21</th>\n",
       "      <td>1</td>\n",
       "      <td>1</td>\n",
       "    </tr>\n",
       "    <tr>\n",
       "      <th>22</th>\n",
       "      <td>1</td>\n",
       "      <td>1</td>\n",
       "    </tr>\n",
       "    <tr>\n",
       "      <th>23</th>\n",
       "      <td>0</td>\n",
       "      <td>0</td>\n",
       "    </tr>\n",
       "    <tr>\n",
       "      <th>24</th>\n",
       "      <td>1</td>\n",
       "      <td>1</td>\n",
       "    </tr>\n",
       "  </tbody>\n",
       "</table>\n",
       "</div>"
      ],
      "text/plain": [
       "    y_pred  y_true\n",
       "0        0       0\n",
       "1        0       0\n",
       "2        0       0\n",
       "3        0       0\n",
       "4        1       1\n",
       "5        0       0\n",
       "6        1       1\n",
       "7        1       0\n",
       "8        0       0\n",
       "9        1       1\n",
       "10       0       0\n",
       "11       0       0\n",
       "12       1       1\n",
       "13       1       1\n",
       "14       1       1\n",
       "15       1       1\n",
       "16       1       1\n",
       "17       0       0\n",
       "18       1       1\n",
       "19       0       0\n",
       "20       1       1\n",
       "21       1       1\n",
       "22       1       1\n",
       "23       0       0\n",
       "24       1       1"
      ]
     },
     "execution_count": 19,
     "metadata": {},
     "output_type": "execute_result"
    }
   ],
   "source": [
    "##予測\n",
    "y_pred3 = clf.predict(X_test)\n",
    "\n",
    "df_pred3 = pd.DataFrame(y_pred3, columns = [\"y_pred\"])\n",
    "df_pred3[\"y_true\"] = y_test\n",
    "df_pred3"
   ]
  },
  {
   "cell_type": "code",
   "execution_count": 20,
   "metadata": {
    "scrolled": true
   },
   "outputs": [
    {
     "data": {
      "image/png": "[encoded data removed]",
      "text/plain": [
       "<Figure size 432x288 with 1 Axes>"
      ]
     },
     "metadata": {
      "needs_background": "light"
     },
     "output_type": "display_data"
    }
   ],
   "source": [
    "# 決定木による分類結果を可視化\n",
    "decision_region(X_train, y_train, clf, X_test=X_test, y_pred=y_pred3)"
   ]
  },
  {
   "cell_type": "markdown",
   "metadata": {},
   "source": [
    "- virginicaの決定領域（中心）が僅かながら拡大している。"
   ]
  },
  {
   "cell_type": "markdown",
   "metadata": {},
   "source": [
    "# 【問題6】指標値の算出\n",
    "\n",
    "- 分類に関する指標値で精度を確認してください。"
   ]
  },
  {
   "cell_type": "code",
   "execution_count": 21,
   "metadata": {},
   "outputs": [
    {
     "name": "stdout",
     "output_type": "stream",
     "text": [
      "accuracy : 0.96\n",
      "precision : 0.9285714285714286\n",
      "recall : 1.0\n",
      "f1 : 0.962962962962963\n",
      "auc : 0.9583333333333333\n"
     ]
    }
   ],
   "source": [
    "accuracy = accuracy_score(y_test, y_pred2)\n",
    "precision = precision_score(y_test, y_pred2)\n",
    "recall = recall_score(y_test, y_pred2)\n",
    "f1 = f1_score(y_test, y_pred2)\n",
    "auc = roc_auc_score(y_test, y_pred2)\n",
    "\n",
    "print(\"accuracy : {}\".format(accuracy))\n",
    "print(\"precision : {}\".format(precision))\n",
    "print(\"recall : {}\".format(recall))\n",
    "print(\"f1 : {}\".format(f1))\n",
    "print(\"auc : {}\".format(auc))"
   ]
  },
  {
   "cell_type": "markdown",
   "metadata": {},
   "source": [
    "# 【問題7】決定領域の可視化\n",
    "\n",
    "- 2値分類のデータセットに対して決定領域を可視化してください。"
   ]
  },
  {
   "cell_type": "markdown",
   "metadata": {},
   "source": [
    "- **課題３〜５で可視化済のため省略する。**"
   ]
  },
  {
   "cell_type": "markdown",
   "metadata": {},
   "source": [
    "# 【問題8】決定木の利用場面\n",
    "\n",
    "- 最終発表時に以下の内容についてディスカッションを行います。自分なりの意見を用意しておいてください。\n",
    "\n",
    "- 決定木が他の手法に比べて有効だと考えられるのはどういった場面か。"
   ]
  },
  {
   "cell_type": "markdown",
   "metadata": {},
   "source": [
    "1. 決定木による分類の本質は、特徴量の比較を繰り返しであり、他の機械学習の手法に比べて分類過程を理解しやすい。\n",
    "\n",
    "\n",
    "2. 留意点としては、以下が挙げられる。\n",
    "\n",
    "    - **overfitting**：データセットに外れ値が含まれている場合、決定木の階層が深すぎると外れ値付近で微細に決定領域を作ってしまい、汎化性能が損なわれる可能性がある。学習結果の可視化、評価結果のスコアリング等を通じて、ハイパーパラメータ（ジニ不純度、深度など）の調整が必要。\n",
    " \n",
    "    - **学習効率** : サンプル数が多い場合、学習時における情報利得の計算に時間を要する。例えば、特徴量をカテゴリ分け（ヒストグラム化）した上で、カテゴリの境界線を分類の閾値として用いる等の工夫の余地があると考えられる。"
   ]
  },
  {
   "cell_type": "markdown",
   "metadata": {},
   "source": [
    "# 本課題からの学び\n",
    "\n",
    "- 本課題からの最も重要な学びは、クラス、関数の再帰的利用の有用性にある。クラスの中でクラスを呼び出す、関数内で関数を呼び出すことで、最小単位（決定木で言えば１つのノード）をコード化すれば良く、コードをシンプルにできると分かった。\n",
    "\n",
    "\n",
    "- 関数の再帰的利用（定義している関数f内で関数fを呼び出す）を通じて、本当の意味で関数の\"return\"を理解できた気がする。最終的に得られた結果（決定木で言えば最も深い層の判定結果）を、関数の呼び出し元（親ノード）に対して返し続けるということだと分かった。\n",
    "\n",
    "\n",
    "- データ型に注意すること。： \n",
    "    np.whereは、array形式でindexを出力する。但し、arrayがtupleに格納されており、len()でindexの個数をカウントしたら1が返ってきてしまい、情報利得が正しく計算されなかった。len(index[0])とすることで個数を正確にカウントすることができた。今後は、メソッドの出力について、データ型のみならず、要素に対して正確にアクセスできるように都度サンプルを用いて確認するようにしたい。"
   ]
  },
  {
   "cell_type": "markdown",
   "metadata": {},
   "source": [
    "### 有用な関数\n",
    "\n",
    "- [np.unique](https://docs.scipy.org/doc/numpy/reference/generated/numpy.unique.html)"
   ]
  }
 ],
 "metadata": {
  "kernelspec": {
   "display_name": "Python 3",
   "language": "python",
   "name": "python3"
  },
  "language_info": {
   "codemirror_mode": {
    "name": "ipython",
    "version": 3
   },
   "file_extension": ".py",
   "mimetype": "text/x-python",
   "name": "python",
   "nbconvert_exporter": "python",
   "pygments_lexer": "ipython3",
   "version": "3.7.0"
  }
 },
 "nbformat": 4,
 "nbformat_minor": 2
}
